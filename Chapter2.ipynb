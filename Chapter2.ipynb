{
  "nbformat": 4,
  "nbformat_minor": 0,
  "metadata": {
    "colab": {
      "name": "Chapter2.ipynb",
      "version": "0.3.2",
      "provenance": [],
      "collapsed_sections": [],
      "toc_visible": true,
      "include_colab_link": true
    },
    "kernelspec": {
      "name": "python3",
      "display_name": "Python 3"
    }
  },
  "cells": [
    {
      "cell_type": "markdown",
      "metadata": {
        "id": "view-in-github",
        "colab_type": "text"
      },
      "source": [
        "<a href=\"https://colab.research.google.com/github/kevink1103/pytorch_rookie/blob/master/Chapter2.ipynb\" target=\"_parent\"><img src=\"https://colab.research.google.com/assets/colab-badge.svg\" alt=\"Open In Colab\"/></a>"
      ]
    },
    {
      "cell_type": "code",
      "metadata": {
        "id": "MtGZ_XB_6mU4",
        "colab_type": "code",
        "colab": {}
      },
      "source": [
        "import torch"
      ],
      "execution_count": 0,
      "outputs": []
    },
    {
      "cell_type": "code",
      "metadata": {
        "id": "IbcgvlCn61Xo",
        "colab_type": "code",
        "colab": {}
      },
      "source": [
        "A = torch.tensor([1, 2, 3.], requires_grad=True)"
      ],
      "execution_count": 0,
      "outputs": []
    },
    {
      "cell_type": "code",
      "metadata": {
        "id": "H3xyxLib7BCN",
        "colab_type": "code",
        "colab": {}
      },
      "source": [
        "B = torch.randn(10, 3)"
      ],
      "execution_count": 0,
      "outputs": []
    },
    {
      "cell_type": "code",
      "metadata": {
        "id": "5vbdsW017Kjp",
        "colab_type": "code",
        "colab": {}
      },
      "source": [
        "C = torch.mv(B, A)"
      ],
      "execution_count": 0,
      "outputs": []
    },
    {
      "cell_type": "code",
      "metadata": {
        "id": "qOu97fgI7YNc",
        "colab_type": "code",
        "outputId": "f93b6509-d341-4807-911a-6f6a9f847ac4",
        "colab": {
          "base_uri": "https://localhost:8080/",
          "height": 51
        }
      },
      "source": [
        "print(C)"
      ],
      "execution_count": 5,
      "outputs": [
        {
          "output_type": "stream",
          "text": [
            "tensor([-0.4010, -4.7811,  0.6752, -1.0457,  6.5107, -2.4818,  3.5389,  1.5850,\n",
            "        -6.4838,  1.5872], grad_fn=<MvBackward>)\n"
          ],
          "name": "stdout"
        }
      ]
    },
    {
      "cell_type": "code",
      "metadata": {
        "id": "-PSUatUgDLAx",
        "colab_type": "code",
        "colab": {}
      },
      "source": [
        "o = C.sum(0)"
      ],
      "execution_count": 0,
      "outputs": []
    },
    {
      "cell_type": "code",
      "metadata": {
        "id": "gviE6xIPDTVy",
        "colab_type": "code",
        "colab": {}
      },
      "source": [
        "o.backward()"
      ],
      "execution_count": 0,
      "outputs": []
    },
    {
      "cell_type": "code",
      "metadata": {
        "id": "jKKXa6IZDZ9B",
        "colab_type": "code",
        "outputId": "ac29d301-6813-46a5-aed5-5daa56bd847b",
        "colab": {
          "base_uri": "https://localhost:8080/",
          "height": 34
        }
      },
      "source": [
        "A.grad"
      ],
      "execution_count": 8,
      "outputs": [
        {
          "output_type": "execute_result",
          "data": {
            "text/plain": [
              "tensor([ 0.1596,  1.8745, -1.7349])"
            ]
          },
          "metadata": {
            "tags": []
          },
          "execution_count": 8
        }
      ]
    },
    {
      "cell_type": "markdown",
      "metadata": {
        "id": "jCGiZvzWKn_V",
        "colab_type": "text"
      },
      "source": [
        "# 리스트 2.1\n",
        "테스트 데이터 생성 및 파라미터 학습을 위한 변수 정의  \n",
        "y = 1 + 2x_1 + 3x_2"
      ]
    },
    {
      "cell_type": "code",
      "metadata": {
        "id": "d1Zd-XTOI59s",
        "colab_type": "code",
        "outputId": "77afd592-d733-4293-8ed2-9648c3e7c49b",
        "colab": {
          "base_uri": "https://localhost:8080/",
          "height": 323
        }
      },
      "source": [
        "# 참(true)의 계수\n",
        "w_true = torch.Tensor([1, 2, 3])\n",
        "\n",
        "# X 데이터 준비. 절편을 회귀 계수에 포함시키기 위해\n",
        "# X의 최초 차원에 1을 추가해 둔다\n",
        "X = torch.cat([torch.ones(100, 1), torch.randn(100, 2)], 1)\n",
        "print(X[:5])\n",
        "\n",
        "# 참의 계수와 각 X의 내적을 행렬과 벡터의 곱으로 모아서 계산\n",
        "y = torch.mv(X, w_true) + torch.randn(100) * 0.5\n",
        "print(y)"
      ],
      "execution_count": 9,
      "outputs": [
        {
          "output_type": "stream",
          "text": [
            "tensor([[ 1.0000, -0.4114, -0.0809],\n",
            "        [ 1.0000,  0.5974,  0.0262],\n",
            "        [ 1.0000, -0.5269, -2.0859],\n",
            "        [ 1.0000,  1.3496, -0.2692],\n",
            "        [ 1.0000,  0.4851,  0.0597]])\n",
            "tensor([-0.5228,  2.3859, -6.0850,  3.9840,  2.3171,  3.9160,  2.6429, -1.2835,\n",
            "         2.3986, -0.6034,  1.3371,  0.8441, -1.6102,  5.6527,  3.8074, -2.4861,\n",
            "        10.1214,  0.8396,  4.4386, -1.4608,  5.0732,  2.7816,  3.5649, -7.3632,\n",
            "         6.4484,  0.8336,  0.8462,  0.4181, -0.4846, -0.0649, -0.9517,  9.4380,\n",
            "        -3.2070,  3.0503, -3.0106,  4.3218, -1.2096,  4.7883, -2.0352,  2.7798,\n",
            "         4.2067,  9.1957,  2.9652,  4.7476, -4.7796,  2.9488, -6.1967,  5.3603,\n",
            "        -7.0285,  3.4670, -1.3656, -3.7830,  2.5789, -9.6067,  1.7120,  7.7480,\n",
            "         3.9043,  1.0380,  2.3465,  1.5434, 10.1035,  3.6928,  6.9670, -3.4227,\n",
            "         2.8209, -0.3468,  2.6377, -3.9472,  6.4695, -0.2179, -1.4046, -4.7456,\n",
            "         6.8409, -0.0229,  7.8414, -0.9341, -4.4927,  3.8555, -2.3753,  5.9878,\n",
            "        -2.1164, -1.4531,  2.5346,  2.5285,  2.3991,  3.4923,  4.6547,  0.9730,\n",
            "        -5.2037, -0.3698, -4.3620,  0.5193, -1.8507, -1.3397,  2.2190, -1.5834,\n",
            "        -2.0859,  2.1612,  8.9145,  7.0530])\n"
          ],
          "name": "stdout"
        }
      ]
    },
    {
      "cell_type": "code",
      "metadata": {
        "id": "tpWI5w_vJP8h",
        "colab_type": "code",
        "colab": {}
      },
      "source": [
        "# 기울기 하강으로 최적화하기 위해 파라미터 Tensor를\n",
        "# 난수로 초기화해서 생성\n",
        "w = torch.randn(3, requires_grad=True)\n",
        "\n",
        "# 학습률\n",
        "gamma = 0.1"
      ],
      "execution_count": 0,
      "outputs": []
    },
    {
      "cell_type": "markdown",
      "metadata": {
        "id": "tFJTwpgIKbiK",
        "colab_type": "text"
      },
      "source": [
        "# 리스트 2.2\n",
        "경사 하강법으로 파라미터 최적화"
      ]
    },
    {
      "cell_type": "code",
      "metadata": {
        "id": "sK7TSW0aLeVM",
        "colab_type": "code",
        "colab": {}
      },
      "source": [
        "# 손실 함수의 로그\n",
        "losses = []\n",
        "\n",
        "# 100회 반복\n",
        "for _ in range(100):\n",
        "  # 전회의 backward 메서드로 계산된 경사값을 초기화\n",
        "  w.grad = None\n",
        "  \n",
        "  # 선형 모델로 y 예측값을 계산\n",
        "  y_pred = torch.mv(X, w)\n",
        "  \n",
        "  # MSE loss와 w에 의한 미분을 계산\n",
        "  loss = torch.mean((y - y_pred) ** 2)\n",
        "  loss.backward()\n",
        "  \n",
        "  # 경사를 갱신한다\n",
        "  # w를 그대로 대입해서 갱신하면 다른 텐서가 돼서\n",
        "  # 계산 그래프가 망가진다. 따라서 data만 갱신한다\n",
        "  w.data = w.data - gamma * w.grad.data\n",
        "  \n",
        "  # 수렴 확인을 위한 loss를 기록해 둔다\n",
        "  losses.append(loss.item())"
      ],
      "execution_count": 0,
      "outputs": []
    },
    {
      "cell_type": "code",
      "metadata": {
        "id": "1PuFwDOcMSJH",
        "colab_type": "code",
        "outputId": "af87b266-ab8e-4686-9ed1-bd29fee16305",
        "colab": {
          "base_uri": "https://localhost:8080/",
          "height": 286
        }
      },
      "source": [
        "%matplotlib inline\n",
        "from matplotlib import pyplot as plt\n",
        "plt.plot(losses)"
      ],
      "execution_count": 12,
      "outputs": [
        {
          "output_type": "execute_result",
          "data": {
            "text/plain": [
              "[<matplotlib.lines.Line2D at 0x7f59f37d8f98>]"
            ]
          },
          "metadata": {
            "tags": []
          },
          "execution_count": 12
        },
        {
          "output_type": "display_data",
          "data": {
            "image/png": "[encoded data removed]",
            "text/plain": [
              "<Figure size 432x288 with 1 Axes>"
            ]
          },
          "metadata": {
            "tags": []
          }
        }
      ]
    },
    {
      "cell_type": "markdown",
      "metadata": {
        "id": "OgoK2ZkGNCVd",
        "colab_type": "text"
      },
      "source": [
        "# 리스트 2.3\n",
        "회귀 계수의 확인"
      ]
    },
    {
      "cell_type": "code",
      "metadata": {
        "id": "g2aBwgE2NHcI",
        "colab_type": "code",
        "outputId": "5e09a954-d7aa-4ea1-e1ef-fe42756f00fa",
        "colab": {
          "base_uri": "https://localhost:8080/",
          "height": 34
        }
      },
      "source": [
        "w"
      ],
      "execution_count": 13,
      "outputs": [
        {
          "output_type": "execute_result",
          "data": {
            "text/plain": [
              "tensor([1.1649, 2.0385, 2.9975], requires_grad=True)"
            ]
          },
          "metadata": {
            "tags": []
          },
          "execution_count": 13
        }
      ]
    },
    {
      "cell_type": "code",
      "metadata": {
        "id": "m1R900JmNIld",
        "colab_type": "code",
        "colab": {}
      },
      "source": [
        "# 잘 찾았다!!!"
      ],
      "execution_count": 0,
      "outputs": []
    },
    {
      "cell_type": "markdown",
      "metadata": {
        "id": "OTVCQUpITR9k",
        "colab_type": "text"
      },
      "source": [
        "# 리스트 2.5\n",
        "선형 회귀 모델의 구축과 최적화 준비"
      ]
    },
    {
      "cell_type": "code",
      "metadata": {
        "id": "CTTYxGvdTZVS",
        "colab_type": "code",
        "colab": {}
      },
      "source": [
        "from torch import nn, optim"
      ],
      "execution_count": 0,
      "outputs": []
    },
    {
      "cell_type": "code",
      "metadata": {
        "id": "oT5zOUG4TeLT",
        "colab_type": "code",
        "colab": {}
      },
      "source": [
        "# Linear층을 작성. 이번에는 절편은 회귀 계수에 포함하므로\n",
        "# 입력 차원을 3으로 하고 bias(절편)을 False로 한다\n",
        "net = nn.Linear(in_features=3, out_features=1, bias=False)"
      ],
      "execution_count": 0,
      "outputs": []
    },
    {
      "cell_type": "code",
      "metadata": {
        "id": "RgM4b6FdUBf0",
        "colab_type": "code",
        "colab": {}
      },
      "source": [
        "# SGD의 최적화기상에서 정의한 네트워크의\n",
        "# 파라미터를 전달해서 최적화\n",
        "optimizer = optim.SGD(net.parameters(), lr=0.1)"
      ],
      "execution_count": 0,
      "outputs": []
    },
    {
      "cell_type": "code",
      "metadata": {
        "id": "CXgrwI4wUKoJ",
        "colab_type": "code",
        "colab": {}
      },
      "source": [
        "# MSE loss 클래스\n",
        "loss_fn = nn.MSELoss()"
      ],
      "execution_count": 0,
      "outputs": []
    },
    {
      "cell_type": "markdown",
      "metadata": {
        "id": "XaleKeHMVL9B",
        "colab_type": "text"
      },
      "source": [
        "# 리스트 2.6\n",
        "최적화 루프(반복 루프) 돌리기"
      ]
    },
    {
      "cell_type": "code",
      "metadata": {
        "id": "FGlUr_S2UOuC",
        "colab_type": "code",
        "colab": {}
      },
      "source": [
        "# 손실 함수 로그\n",
        "losses = []\n",
        "\n",
        "# 100회 반복\n",
        "for _ in range(100):\n",
        "  # 전회의 backward 메서드로 계산된 경사값을 초기화\n",
        "  optimizer.zero_grad()\n",
        "  \n",
        "  # 선형 모델로 y 예측값을 계산\n",
        "  y_pred = net(X)\n",
        "  \n",
        "  # MSE loss 계산\n",
        "  # y_pred는 (n,1)과 같은 shape를 지니고 있으므로 (n,)으로 변경할 필요가 있다\n",
        "  loss = loss_fn(y_pred.view_as(y), y)\n",
        "  \n",
        "  # loss의 w를 사용한 미분 계산\n",
        "  loss.backward()\n",
        "  \n",
        "  # 경사를 갱신한다\n",
        "  optimizer.step()\n",
        "  \n",
        "  # 수렴 확인을 위한 loss를 기록해 둔다\n",
        "  losses.append(loss.item())"
      ],
      "execution_count": 0,
      "outputs": []
    },
    {
      "cell_type": "markdown",
      "metadata": {
        "id": "zNv3OcPnVJ3k",
        "colab_type": "text"
      },
      "source": [
        "# 리스트 2.7\n",
        "수렴한 모델의 파라미터 확인"
      ]
    },
    {
      "cell_type": "code",
      "metadata": {
        "id": "nr0atPLxVWPx",
        "colab_type": "code",
        "outputId": "dbc2c2bf-cd00-4d3f-a142-0c5269116287",
        "colab": {
          "base_uri": "https://localhost:8080/",
          "height": 51
        }
      },
      "source": [
        "list(net.parameters())"
      ],
      "execution_count": 20,
      "outputs": [
        {
          "output_type": "execute_result",
          "data": {
            "text/plain": [
              "[Parameter containing:\n",
              " tensor([[1.1649, 2.0385, 2.9975]], requires_grad=True)]"
            ]
          },
          "metadata": {
            "tags": []
          },
          "execution_count": 20
        }
      ]
    },
    {
      "cell_type": "code",
      "metadata": {
        "id": "ACGROmDdhk8U",
        "colab_type": "code",
        "colab": {
          "base_uri": "https://localhost:8080/",
          "height": 286
        },
        "outputId": "5bdb87fd-b696-4edf-cab8-979115e65758"
      },
      "source": [
        "plt.plot(losses)"
      ],
      "execution_count": 21,
      "outputs": [
        {
          "output_type": "execute_result",
          "data": {
            "text/plain": [
              "[<matplotlib.lines.Line2D at 0x7f59f0f6fc88>]"
            ]
          },
          "metadata": {
            "tags": []
          },
          "execution_count": 21
        },
        {
          "output_type": "display_data",
          "data": {
            "image/png": "[encoded data removed]",
            "text/plain": [
              "<Figure size 432x288 with 1 Axes>"
            ]
          },
          "metadata": {
            "tags": []
          }
        }
      ]
    },
    {
      "cell_type": "markdown",
      "metadata": {
        "id": "aT02W5KECdgi",
        "colab_type": "text"
      },
      "source": [
        "# 리스트 2.8\n",
        "iris 데이터 준비"
      ]
    },
    {
      "cell_type": "code",
      "metadata": {
        "id": "y378c6Oihof-",
        "colab_type": "code",
        "colab": {}
      },
      "source": [
        "import torch\n",
        "from torch import nn, optim\n",
        "from sklearn.datasets import load_iris\n",
        "iris = load_iris()"
      ],
      "execution_count": 0,
      "outputs": []
    },
    {
      "cell_type": "code",
      "metadata": {
        "id": "sdw4_-gcCo07",
        "colab_type": "code",
        "colab": {}
      },
      "source": [
        "# iris는 (0,1,2)의 세 가지 종류를 분류하는 문제이므로\n",
        "# (0,1)의 두 개 데이터만 사용한다\n",
        "# 원래는 학습용과 테스트용으로 나누어야 하지만 여기선 생략한다\n",
        "X = iris.data[:100]\n",
        "y = iris.target[:100]\n",
        "\n",
        "# NumPy의 ndarray를 PyTorch의 Tensor로 변환\n",
        "X = torch.tensor(X, dtype=torch.float32)\n",
        "y = torch.tensor(y, dtype=torch.float32)"
      ],
      "execution_count": 0,
      "outputs": []
    },
    {
      "cell_type": "markdown",
      "metadata": {
        "id": "pjtbzevxDGqT",
        "colab_type": "text"
      },
      "source": [
        "# 리스트 2.9\n",
        "모델 작성"
      ]
    },
    {
      "cell_type": "code",
      "metadata": {
        "id": "J5N65TTQDKFm",
        "colab_type": "code",
        "colab": {}
      },
      "source": [
        "# iris 데이터는 4차원\n",
        "net = nn.Linear(4, 1)\n",
        "\n",
        "# 시그모이드 함수를 적용해서 두 클래스의 분류를 위한\n",
        "# 크로스 엔트로피를 계산\n",
        "loss_fn = nn.BCEWithLogitsLoss()\n",
        "\n",
        "# SGD (약간 큰 학습률)\n",
        "optimizer = optim.SGD(net.parameters(), lr=0.25)"
      ],
      "execution_count": 0,
      "outputs": []
    },
    {
      "cell_type": "markdown",
      "metadata": {
        "id": "khLVDDMgDq5D",
        "colab_type": "text"
      },
      "source": [
        "# 리스트 2.10\n",
        "파라미터 최적화를 위한 반복 루프"
      ]
    },
    {
      "cell_type": "code",
      "metadata": {
        "id": "uzW3OtOJDsy7",
        "colab_type": "code",
        "colab": {}
      },
      "source": [
        "# 손실 함수 로그\n",
        "losses = []\n",
        "\n",
        "# 100회 반복\n",
        "for _ in range(100):\n",
        "  # 전회의 backward 메서드로 계산된 경사값을 초기화\n",
        "  optimizer.zero_grad()\n",
        "  \n",
        "  # 선형 모델으로 y 예측값을 계산\n",
        "  y_pred = net(X)\n",
        "  \n",
        "  # MSE loss를 사용한 미분 계산\n",
        "  loss = loss_fn(y_pred.view_as(y), y)\n",
        "  loss.backward()\n",
        "  \n",
        "  # 경사를 갱신한다\n",
        "  optimizer.step()\n",
        "  \n",
        "  # 수렴 확인을 위한 loss를 기록해 둔다\n",
        "  losses.append(loss.item())"
      ],
      "execution_count": 0,
      "outputs": []
    },
    {
      "cell_type": "code",
      "metadata": {
        "id": "PONhiEViEEtl",
        "colab_type": "code",
        "colab": {
          "base_uri": "https://localhost:8080/",
          "height": 286
        },
        "outputId": "73af9a01-a47f-440e-c7ed-2bdabaf1c001"
      },
      "source": [
        "%matplotlib inline\n",
        "from matplotlib import pyplot as plt\n",
        "plt.plot(losses)"
      ],
      "execution_count": 34,
      "outputs": [
        {
          "output_type": "execute_result",
          "data": {
            "text/plain": [
              "[<matplotlib.lines.Line2D at 0x7f59e63df940>]"
            ]
          },
          "metadata": {
            "tags": []
          },
          "execution_count": 34
        },
        {
          "output_type": "display_data",
          "data": {
            "image/png": "[encoded data removed]",
            "text/plain": [
              "<Figure size 432x288 with 1 Axes>"
            ]
          },
          "metadata": {
            "tags": []
          }
        }
      ]
    },
    {
      "cell_type": "markdown",
      "metadata": {
        "id": "dOkT0ivGE8MK",
        "colab_type": "text"
      },
      "source": [
        "# 리스트 2.11\n",
        "모델 작성"
      ]
    },
    {
      "cell_type": "code",
      "metadata": {
        "id": "rWYg2g4rE-u8",
        "colab_type": "code",
        "colab": {
          "base_uri": "https://localhost:8080/",
          "height": 34
        },
        "outputId": "1b7bf399-0bcb-437e-ff58-91d649ccb076"
      },
      "source": [
        "# 선형 결합의 결과\n",
        "h = net(X)\n",
        "\n",
        "# 시그모이드 함수를 적용한 결과는 y=1의 확률을 보여 준다\n",
        "prob = torch.sigmoid(h)\n",
        "\n",
        "# 확률이 0.5이상인 것을 클래스1로 예측하고 그외는 0으로 한다\n",
        "# PyTorch에는 Bool형이 없으므로 ByteTensor가 출력된다\n",
        "y_pred = prob > 0.5\n",
        "\n",
        "# 예측 결과 확인 (y는 FloatTensor이므로 ByteTensor로 변환한 후에 비교)\n",
        "(y.byte() == y_pred.view_as(y)).sum().item()"
      ],
      "execution_count": 35,
      "outputs": [
        {
          "output_type": "execute_result",
          "data": {
            "text/plain": [
              "100"
            ]
          },
          "metadata": {
            "tags": []
          },
          "execution_count": 35
        }
      ]
    },
    {
      "cell_type": "markdown",
      "metadata": {
        "id": "nkfSRixdGP3v",
        "colab_type": "text"
      },
      "source": [
        "# 리스트 2.12\n",
        "손으로 쓴 10개의 숫자 데이터를 분류하는 문제"
      ]
    },
    {
      "cell_type": "code",
      "metadata": {
        "id": "YBdSFUvsGUKQ",
        "colab_type": "code",
        "colab": {}
      },
      "source": [
        "import torch\n",
        "from torch import nn, optim\n",
        "from sklearn.datasets import load_digits\n",
        "digits = load_digits()\n",
        "\n",
        "X = digits.data\n",
        "y = digits.target"
      ],
      "execution_count": 0,
      "outputs": []
    },
    {
      "cell_type": "code",
      "metadata": {
        "id": "YJDhVxBIG0Mt",
        "colab_type": "code",
        "colab": {}
      },
      "source": [
        "X = torch.tensor(X, dtype=torch.float32)\n",
        "# CrossEntropyLoss 함수는 y로 int64형의 텐서를 받으니 주의하자\n",
        "y = torch.tensor(y, dtype=torch.int64)"
      ],
      "execution_count": 0,
      "outputs": []
    },
    {
      "cell_type": "code",
      "metadata": {
        "id": "-9BhEZvrHD_l",
        "colab_type": "code",
        "colab": {}
      },
      "source": [
        "# 출력은 10(분류 수) 차원\n",
        "net = nn.Linear(X.size()[1], 10)\n",
        "\n",
        "# 소프트맥스 크로스 엔트로피\n",
        "loss_fn = nn.CrossEntropyLoss()\n",
        "\n",
        "# SGD\n",
        "optimizer = optim.SGD(net.parameters(), lr=0.01)"
      ],
      "execution_count": 0,
      "outputs": []
    },
    {
      "cell_type": "markdown",
      "metadata": {
        "id": "_GvGeCDmHVpt",
        "colab_type": "text"
      },
      "source": [
        "# 리스트 2.13\n",
        "학습용 반복 처리"
      ]
    },
    {
      "cell_type": "code",
      "metadata": {
        "id": "uF73UltgHfCJ",
        "colab_type": "code",
        "colab": {}
      },
      "source": [
        "# 손실 함수 로그\n",
        "losses = []\n",
        "\n",
        "# 100회 반복\n",
        "for _ in range(100):\n",
        "  # 전회의 backward 메서드로 계산된 경사값을 초기화\n",
        "  optimizer.zero_grad()\n",
        "  \n",
        "  # 선형 모델으로 y 예측값을 계산\n",
        "  y_pred = net(X)\n",
        "  \n",
        "  # MSE loss 미분 계산\n",
        "  loss = loss_fn(y_pred, y)\n",
        "  loss.backward()\n",
        "  \n",
        "  # 경사를 갱신한다\n",
        "  optimizer.step()\n",
        "  \n",
        "  # 수렴 확인을 위한 loss를 기록해 둔다\n",
        "  losses.append(loss.item())"
      ],
      "execution_count": 0,
      "outputs": []
    },
    {
      "cell_type": "markdown",
      "metadata": {
        "id": "DuvzMmB8H-Bm",
        "colab_type": "text"
      },
      "source": [
        "# 리스트 2.14\n",
        "정답률"
      ]
    },
    {
      "cell_type": "code",
      "metadata": {
        "id": "7zuxPy0UIAxo",
        "colab_type": "code",
        "colab": {
          "base_uri": "https://localhost:8080/",
          "height": 34
        },
        "outputId": "2de80c35-6b92-4fe6-dbcb-86d8b14b55a4"
      },
      "source": [
        "# torch.max는 집계축을 지정하면 최댓값뿐만 아니라 그 위치도 반환한다\n",
        "_, y_pred = torch.max(net(X), 1)\n",
        "\n",
        "# 정답률을 계산한다\n",
        "(y_pred == y).sum().item() / len(y)"
      ],
      "execution_count": 41,
      "outputs": [
        {
          "output_type": "execute_result",
          "data": {
            "text/plain": [
              "0.9449081803005008"
            ]
          },
          "metadata": {
            "tags": []
          },
          "execution_count": 41
        }
      ]
    },
    {
      "cell_type": "code",
      "metadata": {
        "id": "qm8a6ExZIOHg",
        "colab_type": "code",
        "colab": {}
      },
      "source": [
        ""
      ],
      "execution_count": 0,
      "outputs": []
    }
  ]
}