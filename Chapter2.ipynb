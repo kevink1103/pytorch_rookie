{
  "nbformat": 4,
  "nbformat_minor": 0,
  "metadata": {
    "colab": {
      "name": "Chapter2.ipynb",
      "provenance": [],
      "collapsed_sections": [],
      "toc_visible": true,
      "include_colab_link": true
    },
    "kernelspec": {
      "name": "python3",
      "display_name": "Python 3"
    }
  },
  "cells": [
    {
      "cell_type": "markdown",
      "metadata": {
        "id": "view-in-github",
        "colab_type": "text"
      },
      "source": [
        "<a href=\"https://colab.research.google.com/github/kevink1103/pytorch_rookie/blob/master/Chapter2.ipynb\" target=\"_parent\"><img src=\"https://colab.research.google.com/assets/colab-badge.svg\" alt=\"Open In Colab\"/></a>"
      ]
    },
    {
      "cell_type": "code",
      "metadata": {
        "id": "MtGZ_XB_6mU4",
        "colab_type": "code",
        "colab": {}
      },
      "source": [
        "import torch"
      ],
      "execution_count": 0,
      "outputs": []
    },
    {
      "cell_type": "code",
      "metadata": {
        "id": "IbcgvlCn61Xo",
        "colab_type": "code",
        "colab": {}
      },
      "source": [
        "A = torch.tensor([1, 2, 3.], requires_grad=True)"
      ],
      "execution_count": 0,
      "outputs": []
    },
    {
      "cell_type": "code",
      "metadata": {
        "id": "H3xyxLib7BCN",
        "colab_type": "code",
        "colab": {}
      },
      "source": [
        "B = torch.randn(10, 3)"
      ],
      "execution_count": 0,
      "outputs": []
    },
    {
      "cell_type": "code",
      "metadata": {
        "id": "5vbdsW017Kjp",
        "colab_type": "code",
        "colab": {}
      },
      "source": [
        "C = torch.mv(B, A)"
      ],
      "execution_count": 0,
      "outputs": []
    },
    {
      "cell_type": "code",
      "metadata": {
        "id": "qOu97fgI7YNc",
        "colab_type": "code",
        "outputId": "cd08af98-3646-4c4e-d490-c933f81d87e6",
        "colab": {
          "base_uri": "https://localhost:8080/",
          "height": 51
        }
      },
      "source": [
        "print(C)"
      ],
      "execution_count": 0,
      "outputs": [
        {
          "output_type": "stream",
          "text": [
            "tensor([ 3.6534,  2.9919, -5.2829,  6.0215,  0.1412, -4.5884,  3.8932, -3.5019,\n",
            "         4.9932,  1.2640], grad_fn=<MvBackward>)\n"
          ],
          "name": "stdout"
        }
      ]
    },
    {
      "cell_type": "code",
      "metadata": {
        "id": "-PSUatUgDLAx",
        "colab_type": "code",
        "outputId": "5cb2ad81-ad9d-4b6c-987a-dd80f5e170ba",
        "colab": {
          "base_uri": "https://localhost:8080/",
          "height": 34
        }
      },
      "source": [
        "o = C.sum(0)\n",
        "print(o)"
      ],
      "execution_count": 0,
      "outputs": [
        {
          "output_type": "stream",
          "text": [
            "tensor(9.5853, grad_fn=<SumBackward1>)\n"
          ],
          "name": "stdout"
        }
      ]
    },
    {
      "cell_type": "code",
      "metadata": {
        "id": "gviE6xIPDTVy",
        "colab_type": "code",
        "outputId": "0367ddbc-4422-42f6-ce1b-08f216a0d927",
        "colab": {
          "base_uri": "https://localhost:8080/",
          "height": 34
        }
      },
      "source": [
        "o.backward()\n",
        "print(o)"
      ],
      "execution_count": 0,
      "outputs": [
        {
          "output_type": "stream",
          "text": [
            "tensor(9.5853, grad_fn=<SumBackward1>)\n"
          ],
          "name": "stdout"
        }
      ]
    },
    {
      "cell_type": "code",
      "metadata": {
        "id": "jKKXa6IZDZ9B",
        "colab_type": "code",
        "outputId": "8a73eab0-5a67-4b76-b390-7098975615f9",
        "colab": {
          "base_uri": "https://localhost:8080/",
          "height": 34
        }
      },
      "source": [
        "A.grad"
      ],
      "execution_count": 0,
      "outputs": [
        {
          "output_type": "execute_result",
          "data": {
            "text/plain": [
              "tensor([-4.5695,  1.3941,  3.7889])"
            ]
          },
          "metadata": {
            "tags": []
          },
          "execution_count": 19
        }
      ]
    },
    {
      "cell_type": "markdown",
      "metadata": {
        "id": "jCGiZvzWKn_V",
        "colab_type": "text"
      },
      "source": [
        "# 리스트 2.1\n",
        "테스트 데이터 생성 및 파라미터 학습을 위한 변수 정의  \n",
        "y = 1 + 2x_1 + 3x_2"
      ]
    },
    {
      "cell_type": "code",
      "metadata": {
        "id": "d1Zd-XTOI59s",
        "colab_type": "code",
        "outputId": "adb040f4-c82a-4fd2-f039-33372e958fc0",
        "colab": {
          "base_uri": "https://localhost:8080/",
          "height": 323
        }
      },
      "source": [
        "# 참(true)의 계수\n",
        "w_true = torch.Tensor([1, 2, 3])\n",
        "\n",
        "# X 데이터 준비. 절편을 회귀 계수에 포함시키기 위해\n",
        "# X의 최초 차원에 1을 추가해 둔다\n",
        "# 매트릭스 디멘션 맞추기 위해서 맨 앞에 1 추가. 1x1\n",
        "# 매트릭스 곱하기 연산을 통해 결국 y식 완성\n",
        "X = torch.cat([torch.ones(100, 1), torch.randn(100, 2)], 1)\n",
        "print(X[:5])\n",
        "\n",
        "# 참의 계수와 각 X의 내적을 행렬과 벡터의 곱으로 모아서 계산\n",
        "y = torch.mv(X, w_true) + torch.randn(100) * 0.5\n",
        "print(y)"
      ],
      "execution_count": 0,
      "outputs": [
        {
          "output_type": "stream",
          "text": [
            "tensor([[ 1.0000, -1.3230, -0.3778],\n",
            "        [ 1.0000, -0.1146,  1.7756],\n",
            "        [ 1.0000, -0.5874, -0.1779],\n",
            "        [ 1.0000, -0.0262,  0.1770],\n",
            "        [ 1.0000,  0.5970,  0.4585]])\n",
            "tensor([-3.0875,  6.0755, -0.3873,  1.1562,  3.7757, -1.5284,  4.0793,  7.9474,\n",
            "         1.4052,  3.5256,  2.3525, -2.0652, -0.9138,  0.2932,  3.3269,  2.4682,\n",
            "         2.3663,  6.4222,  0.6383, -9.6605,  2.1091,  2.9885,  6.8806, -4.2116,\n",
            "        -1.2455,  3.8676,  0.1311,  0.7098,  0.9807,  2.0369, -0.0395, -1.5376,\n",
            "         2.7519, -4.5991,  1.4588, -2.5435, -4.1801,  2.7670, -1.3907, -0.9760,\n",
            "        -5.2061,  2.5122, -1.4771,  4.1532,  3.6694, -8.3159,  1.7684, -0.4728,\n",
            "         3.6207,  0.8495, -4.0868,  5.2353,  0.5733,  0.2006,  7.9582,  5.8541,\n",
            "        -1.6635,  6.0514, -1.3912, -2.9893,  0.7930, -2.1824, -8.5599,  2.8427,\n",
            "        -4.0649,  1.6423,  3.5208,  2.2493, -0.7580,  1.1441,  3.7124, -0.1486,\n",
            "         2.9248,  4.5300,  2.4863,  5.2237,  0.5925, -2.7793, -0.4919,  3.1542,\n",
            "         0.4137, -2.2343,  1.4763,  2.7152, -1.1134,  0.3169, -4.0236,  2.0287,\n",
            "        -0.9304,  1.7261,  1.5492,  1.8048, -0.2418,  5.6327,  0.0986,  6.2245,\n",
            "         5.0062,  2.1510,  0.8192,  1.5626])\n"
          ],
          "name": "stdout"
        }
      ]
    },
    {
      "cell_type": "code",
      "metadata": {
        "id": "tpWI5w_vJP8h",
        "colab_type": "code",
        "colab": {}
      },
      "source": [
        "# 기울기 하강으로 최적화하기 위해 파라미터 Tensor를\n",
        "# 난수로 초기화해서 생성\n",
        "w = torch.randn(3, requires_grad=True)\n",
        "\n",
        "# 학습률\n",
        "gamma = 0.1"
      ],
      "execution_count": 0,
      "outputs": []
    },
    {
      "cell_type": "markdown",
      "metadata": {
        "id": "tFJTwpgIKbiK",
        "colab_type": "text"
      },
      "source": [
        "# 리스트 2.2\n",
        "경사 하강법으로 파라미터 최적화"
      ]
    },
    {
      "cell_type": "code",
      "metadata": {
        "id": "sK7TSW0aLeVM",
        "colab_type": "code",
        "colab": {}
      },
      "source": [
        "# 손실 함수의 로그\n",
        "losses = []\n",
        "\n",
        "# 100회 반복\n",
        "for _ in range(100):\n",
        "  # 전회의 backward 메서드로 계산된 경사값을 초기화\n",
        "  w.grad = None\n",
        "  \n",
        "  # 선형 모델로 y 예측값을 계산\n",
        "  y_pred = torch.mv(X, w)\n",
        "  \n",
        "  # MSE loss와 w에 의한 미분을 계산\n",
        "  loss = torch.mean((y - y_pred) ** 2)\n",
        "  loss.backward()\n",
        "  \n",
        "  # 경사를 갱신한다\n",
        "  # w를 그대로 대입해서 갱신하면 다른 텐서가 돼서\n",
        "  # 계산 그래프가 망가진다. 따라서 data만 갱신한다\n",
        "  w.data = w.data - gamma * w.grad.data\n",
        "  \n",
        "  # 수렴 확인을 위한 loss를 기록해 둔다\n",
        "  losses.append(loss.item())"
      ],
      "execution_count": 0,
      "outputs": []
    },
    {
      "cell_type": "code",
      "metadata": {
        "id": "1PuFwDOcMSJH",
        "colab_type": "code",
        "outputId": "cf327e9c-c5ff-4436-85b6-6149e54bbd9e",
        "colab": {
          "base_uri": "https://localhost:8080/",
          "height": 282
        }
      },
      "source": [
        "%matplotlib inline\n",
        "from matplotlib import pyplot as plt\n",
        "plt.plot(losses)"
      ],
      "execution_count": 0,
      "outputs": [
        {
          "output_type": "execute_result",
          "data": {
            "text/plain": [
              "[<matplotlib.lines.Line2D at 0x7f3882e62eb8>]"
            ]
          },
          "metadata": {
            "tags": []
          },
          "execution_count": 39
        },
        {
          "output_type": "display_data",
          "data": {
            "image/png": "[encoded data removed]",
            "text/plain": [
              "<Figure size 432x288 with 1 Axes>"
            ]
          },
          "metadata": {
            "tags": []
          }
        }
      ]
    },
    {
      "cell_type": "markdown",
      "metadata": {
        "id": "OgoK2ZkGNCVd",
        "colab_type": "text"
      },
      "source": [
        "# 리스트 2.3\n",
        "회귀 계수의 확인"
      ]
    },
    {
      "cell_type": "code",
      "metadata": {
        "id": "g2aBwgE2NHcI",
        "colab_type": "code",
        "outputId": "1f7189ce-9e2a-4d9b-af39-ca58ad9f2604",
        "colab": {
          "base_uri": "https://localhost:8080/",
          "height": 34
        }
      },
      "source": [
        "w"
      ],
      "execution_count": 0,
      "outputs": [
        {
          "output_type": "execute_result",
          "data": {
            "text/plain": [
              "tensor([1.0313, 2.0809, 3.0753], requires_grad=True)"
            ]
          },
          "metadata": {
            "tags": []
          },
          "execution_count": 40
        }
      ]
    },
    {
      "cell_type": "code",
      "metadata": {
        "id": "m1R900JmNIld",
        "colab_type": "code",
        "colab": {}
      },
      "source": [
        "# 잘 찾았다!!!"
      ],
      "execution_count": 0,
      "outputs": []
    },
    {
      "cell_type": "markdown",
      "metadata": {
        "id": "OTVCQUpITR9k",
        "colab_type": "text"
      },
      "source": [
        "# 리스트 2.5\n",
        "선형 회귀 모델의 구축과 최적화 준비"
      ]
    },
    {
      "cell_type": "code",
      "metadata": {
        "id": "CTTYxGvdTZVS",
        "colab_type": "code",
        "colab": {}
      },
      "source": [
        "from torch import nn, optim"
      ],
      "execution_count": 0,
      "outputs": []
    },
    {
      "cell_type": "code",
      "metadata": {
        "id": "oT5zOUG4TeLT",
        "colab_type": "code",
        "colab": {}
      },
      "source": [
        "# Linear층을 작성. 이번에는 절편은 회귀 계수에 포함하므로\n",
        "# 입력 차원을 3으로 하고 bias(절편)을 False로 한다\n",
        "net = nn.Linear(in_features=3, out_features=1, bias=False)"
      ],
      "execution_count": 0,
      "outputs": []
    },
    {
      "cell_type": "code",
      "metadata": {
        "id": "RgM4b6FdUBf0",
        "colab_type": "code",
        "colab": {}
      },
      "source": [
        "# SGD의 최적화기상에서 정의한 네트워크의\n",
        "# 파라미터를 전달해서 최적화\n",
        "optimizer = optim.SGD(net.parameters(), lr=0.1)"
      ],
      "execution_count": 0,
      "outputs": []
    },
    {
      "cell_type": "code",
      "metadata": {
        "id": "CXgrwI4wUKoJ",
        "colab_type": "code",
        "colab": {}
      },
      "source": [
        "# MSE loss 클래스\n",
        "loss_fn = nn.MSELoss()"
      ],
      "execution_count": 0,
      "outputs": []
    },
    {
      "cell_type": "markdown",
      "metadata": {
        "id": "XaleKeHMVL9B",
        "colab_type": "text"
      },
      "source": [
        "# 리스트 2.6\n",
        "최적화 루프(반복 루프) 돌리기"
      ]
    },
    {
      "cell_type": "code",
      "metadata": {
        "id": "FGlUr_S2UOuC",
        "colab_type": "code",
        "colab": {}
      },
      "source": [
        "# 손실 함수 로그\n",
        "losses = []\n",
        "\n",
        "# 100회 반복\n",
        "for _ in range(100):\n",
        "  # 전회의 backward 메서드로 계산된 경사값을 초기화\n",
        "  optimizer.zero_grad()\n",
        "  \n",
        "  # 선형 모델로 y 예측값을 계산\n",
        "  y_pred = net(X)\n",
        "  \n",
        "  # MSE loss 계산\n",
        "  # y_pred는 (n,1)과 같은 shape를 지니고 있으므로 (n,)으로 변경할 필요가 있다\n",
        "  loss = loss_fn(y_pred.view_as(y), y)\n",
        "  \n",
        "  # loss의 w를 사용한 미분 계산\n",
        "  loss.backward()\n",
        "  \n",
        "  # 경사를 갱신한다\n",
        "  optimizer.step()\n",
        "  \n",
        "  # 수렴 확인을 위한 loss를 기록해 둔다\n",
        "  losses.append(loss.item())"
      ],
      "execution_count": 0,
      "outputs": []
    },
    {
      "cell_type": "markdown",
      "metadata": {
        "id": "zNv3OcPnVJ3k",
        "colab_type": "text"
      },
      "source": [
        "# 리스트 2.7\n",
        "수렴한 모델의 파라미터 확인"
      ]
    },
    {
      "cell_type": "code",
      "metadata": {
        "id": "nr0atPLxVWPx",
        "colab_type": "code",
        "outputId": "396c5ce8-d93b-4085-be07-e0314062d249",
        "colab": {
          "base_uri": "https://localhost:8080/",
          "height": 51
        }
      },
      "source": [
        "list(net.parameters())"
      ],
      "execution_count": 0,
      "outputs": [
        {
          "output_type": "execute_result",
          "data": {
            "text/plain": [
              "[Parameter containing:\n",
              " tensor([[1.0313, 2.0809, 3.0753]], requires_grad=True)]"
            ]
          },
          "metadata": {
            "tags": []
          },
          "execution_count": 53
        }
      ]
    },
    {
      "cell_type": "code",
      "metadata": {
        "id": "ACGROmDdhk8U",
        "colab_type": "code",
        "outputId": "f307a11e-274a-4f0f-a387-feafade169a2",
        "colab": {
          "base_uri": "https://localhost:8080/",
          "height": 285
        }
      },
      "source": [
        "plt.plot(losses)"
      ],
      "execution_count": 0,
      "outputs": [
        {
          "output_type": "execute_result",
          "data": {
            "text/plain": [
              "[<matplotlib.lines.Line2D at 0x7f38816ad550>]"
            ]
          },
          "metadata": {
            "tags": []
          },
          "execution_count": 54
        },
        {
          "output_type": "display_data",
          "data": {
            "image/png": "[encoded data removed]",
            "text/plain": [
              "<Figure size 432x288 with 1 Axes>"
            ]
          },
          "metadata": {
            "tags": []
          }
        }
      ]
    },
    {
      "cell_type": "markdown",
      "metadata": {
        "id": "aT02W5KECdgi",
        "colab_type": "text"
      },
      "source": [
        "# 리스트 2.8\n",
        "iris 데이터 준비"
      ]
    },
    {
      "cell_type": "code",
      "metadata": {
        "id": "y378c6Oihof-",
        "colab_type": "code",
        "colab": {}
      },
      "source": [
        "import torch\n",
        "from torch import nn, optim\n",
        "from sklearn.datasets import load_iris\n",
        "iris = load_iris()"
      ],
      "execution_count": 0,
      "outputs": []
    },
    {
      "cell_type": "code",
      "metadata": {
        "id": "sdw4_-gcCo07",
        "colab_type": "code",
        "colab": {}
      },
      "source": [
        "# iris는 (0,1,2)의 세 가지 종류를 분류하는 문제이므로\n",
        "# (0,1)의 두 개 데이터만 사용한다\n",
        "# 원래는 학습용과 테스트용으로 나누어야 하지만 여기선 생략한다\n",
        "X = iris.data[:100]\n",
        "y = iris.target[:100]\n",
        "\n",
        "# NumPy의 ndarray를 PyTorch의 Tensor로 변환\n",
        "X = torch.tensor(X, dtype=torch.float32)\n",
        "y = torch.tensor(y, dtype=torch.float32)"
      ],
      "execution_count": 0,
      "outputs": []
    },
    {
      "cell_type": "markdown",
      "metadata": {
        "id": "pjtbzevxDGqT",
        "colab_type": "text"
      },
      "source": [
        "# 리스트 2.9\n",
        "모델 작성"
      ]
    },
    {
      "cell_type": "code",
      "metadata": {
        "id": "J5N65TTQDKFm",
        "colab_type": "code",
        "colab": {}
      },
      "source": [
        "# iris 데이터는 4차원\n",
        "net = nn.Linear(4, 1)\n",
        "\n",
        "# 시그모이드 함수를 적용해서 두 클래스의 분류를 위한\n",
        "# 크로스 엔트로피를 계산\n",
        "loss_fn = nn.BCEWithLogitsLoss()\n",
        "\n",
        "# SGD (약간 큰 학습률)\n",
        "optimizer = optim.SGD(net.parameters(), lr=0.25)"
      ],
      "execution_count": 0,
      "outputs": []
    },
    {
      "cell_type": "markdown",
      "metadata": {
        "id": "khLVDDMgDq5D",
        "colab_type": "text"
      },
      "source": [
        "# 리스트 2.10\n",
        "파라미터 최적화를 위한 반복 루프"
      ]
    },
    {
      "cell_type": "code",
      "metadata": {
        "id": "uzW3OtOJDsy7",
        "colab_type": "code",
        "colab": {}
      },
      "source": [
        "# 손실 함수 로그\n",
        "losses = []\n",
        "\n",
        "# 100회 반복\n",
        "for _ in range(100):\n",
        "  # 전회의 backward 메서드로 계산된 경사값을 초기화\n",
        "  optimizer.zero_grad()\n",
        "  \n",
        "  # 선형 모델으로 y 예측값을 계산\n",
        "  y_pred = net(X)\n",
        "  \n",
        "  # MSE loss를 사용한 미분 계산\n",
        "  loss = loss_fn(y_pred.view_as(y), y)\n",
        "  loss.backward()\n",
        "  \n",
        "  # 경사를 갱신한다\n",
        "  optimizer.step()\n",
        "  \n",
        "  # 수렴 확인을 위한 loss를 기록해 둔다\n",
        "  losses.append(loss.item())"
      ],
      "execution_count": 0,
      "outputs": []
    },
    {
      "cell_type": "code",
      "metadata": {
        "id": "PONhiEViEEtl",
        "colab_type": "code",
        "outputId": "4ef87c9b-410e-45a8-d57c-676e54b8116a",
        "colab": {
          "base_uri": "https://localhost:8080/",
          "height": 282
        }
      },
      "source": [
        "%matplotlib inline\n",
        "from matplotlib import pyplot as plt\n",
        "plt.plot(losses)"
      ],
      "execution_count": 0,
      "outputs": [
        {
          "output_type": "execute_result",
          "data": {
            "text/plain": [
              "[<matplotlib.lines.Line2D at 0x7f3872bbaf28>]"
            ]
          },
          "metadata": {
            "tags": []
          },
          "execution_count": 63
        },
        {
          "output_type": "display_data",
          "data": {
            "image/png": "[encoded data removed]",
            "text/plain": [
              "<Figure size 432x288 with 1 Axes>"
            ]
          },
          "metadata": {
            "tags": []
          }
        }
      ]
    },
    {
      "cell_type": "markdown",
      "metadata": {
        "id": "dOkT0ivGE8MK",
        "colab_type": "text"
      },
      "source": [
        "# 리스트 2.11\n",
        "모델 작성"
      ]
    },
    {
      "cell_type": "code",
      "metadata": {
        "id": "rWYg2g4rE-u8",
        "colab_type": "code",
        "outputId": "1dac22ad-def9-4ef6-cfde-49a0e569da48",
        "colab": {
          "base_uri": "https://localhost:8080/",
          "height": 425
        }
      },
      "source": [
        "# 선형 결합의 결과\n",
        "h = net(X)\n",
        "\n",
        "# 시그모이드 함수를 적용한 결과는 y=1의 확률을 보여 준다\n",
        "prob = torch.sigmoid(h)\n",
        "\n",
        "# 확률이 0.5이상인 것을 클래스1로 예측하고 그외는 0으로 한다\n",
        "# PyTorch에는 Bool형이 없으므로 ByteTensor가 출력된다\n",
        "y_pred = prob > 0.5\n",
        "\n",
        "# 예측 결과 확인 (y는 FloatTensor이므로 ByteTensor로 변환한 후에 비교)\n",
        "(y.byte() == y_pred.view_as(y)).sum().item()\n",
        "\n",
        "print(prob.size())\n",
        "print(y.size())\n",
        "print(y.byte())\n",
        "print(y_pred.size())\n",
        "print(y_pred.view_as(y))\n",
        "print(y_pred.view_as(y).byte())\n",
        "print((y.byte() == y_pred.view_as(y)).sum().item())\n",
        "\n",
        "# all correct"
      ],
      "execution_count": 0,
      "outputs": [
        {
          "output_type": "stream",
          "text": [
            "torch.Size([100, 1])\n",
            "torch.Size([100])\n",
            "tensor([0, 0, 0, 0, 0, 0, 0, 0, 0, 0, 0, 0, 0, 0, 0, 0, 0, 0, 0, 0, 0, 0, 0, 0,\n",
            "        0, 0, 0, 0, 0, 0, 0, 0, 0, 0, 0, 0, 0, 0, 0, 0, 0, 0, 0, 0, 0, 0, 0, 0,\n",
            "        0, 0, 1, 1, 1, 1, 1, 1, 1, 1, 1, 1, 1, 1, 1, 1, 1, 1, 1, 1, 1, 1, 1, 1,\n",
            "        1, 1, 1, 1, 1, 1, 1, 1, 1, 1, 1, 1, 1, 1, 1, 1, 1, 1, 1, 1, 1, 1, 1, 1,\n",
            "        1, 1, 1, 1], dtype=torch.uint8)\n",
            "torch.Size([100, 1])\n",
            "tensor([False, False, False, False, False, False, False, False, False, False,\n",
            "        False, False, False, False, False, False, False, False, False, False,\n",
            "        False, False, False, False, False, False, False, False, False, False,\n",
            "        False, False, False, False, False, False, False, False, False, False,\n",
            "        False, False, False, False, False, False, False, False, False, False,\n",
            "         True,  True,  True,  True,  True,  True,  True,  True,  True,  True,\n",
            "         True,  True,  True,  True,  True,  True,  True,  True,  True,  True,\n",
            "         True,  True,  True,  True,  True,  True,  True,  True,  True,  True,\n",
            "         True,  True,  True,  True,  True,  True,  True,  True,  True,  True,\n",
            "         True,  True,  True,  True,  True,  True,  True,  True,  True,  True])\n",
            "tensor([0, 0, 0, 0, 0, 0, 0, 0, 0, 0, 0, 0, 0, 0, 0, 0, 0, 0, 0, 0, 0, 0, 0, 0,\n",
            "        0, 0, 0, 0, 0, 0, 0, 0, 0, 0, 0, 0, 0, 0, 0, 0, 0, 0, 0, 0, 0, 0, 0, 0,\n",
            "        0, 0, 1, 1, 1, 1, 1, 1, 1, 1, 1, 1, 1, 1, 1, 1, 1, 1, 1, 1, 1, 1, 1, 1,\n",
            "        1, 1, 1, 1, 1, 1, 1, 1, 1, 1, 1, 1, 1, 1, 1, 1, 1, 1, 1, 1, 1, 1, 1, 1,\n",
            "        1, 1, 1, 1], dtype=torch.uint8)\n",
            "100\n"
          ],
          "name": "stdout"
        }
      ]
    },
    {
      "cell_type": "markdown",
      "metadata": {
        "id": "nkfSRixdGP3v",
        "colab_type": "text"
      },
      "source": [
        "# 리스트 2.12\n",
        "손으로 쓴 10개의 숫자 데이터를 분류하는 문제"
      ]
    },
    {
      "cell_type": "code",
      "metadata": {
        "id": "YBdSFUvsGUKQ",
        "colab_type": "code",
        "colab": {}
      },
      "source": [
        "import torch\n",
        "from torch import nn, optim\n",
        "from sklearn.datasets import load_digits\n",
        "digits = load_digits()\n",
        "\n",
        "X = digits.data\n",
        "y = digits.target"
      ],
      "execution_count": 0,
      "outputs": []
    },
    {
      "cell_type": "code",
      "metadata": {
        "id": "YJDhVxBIG0Mt",
        "colab_type": "code",
        "colab": {}
      },
      "source": [
        "X = torch.tensor(X, dtype=torch.float32)\n",
        "# CrossEntropyLoss 함수는 y로 int64형의 텐서를 받으니 주의하자\n",
        "y = torch.tensor(y, dtype=torch.int64)"
      ],
      "execution_count": 0,
      "outputs": []
    },
    {
      "cell_type": "code",
      "metadata": {
        "id": "-9BhEZvrHD_l",
        "colab_type": "code",
        "colab": {}
      },
      "source": [
        "# 출력은 10(분류 수) 차원\n",
        "net = nn.Linear(X.size()[1], 10)\n",
        "\n",
        "# 소프트맥스 크로스 엔트로피\n",
        "loss_fn = nn.CrossEntropyLoss()\n",
        "\n",
        "# SGD\n",
        "optimizer = optim.SGD(net.parameters(), lr=0.01)"
      ],
      "execution_count": 0,
      "outputs": []
    },
    {
      "cell_type": "markdown",
      "metadata": {
        "id": "_GvGeCDmHVpt",
        "colab_type": "text"
      },
      "source": [
        "# 리스트 2.13\n",
        "학습용 반복 처리"
      ]
    },
    {
      "cell_type": "code",
      "metadata": {
        "id": "uF73UltgHfCJ",
        "colab_type": "code",
        "colab": {}
      },
      "source": [
        "# 손실 함수 로그\n",
        "losses = []\n",
        "\n",
        "# 100회 반복\n",
        "for _ in range(100):\n",
        "  # 전회의 backward 메서드로 계산된 경사값을 초기화\n",
        "  optimizer.zero_grad()\n",
        "  \n",
        "  # 선형 모델으로 y 예측값을 계산\n",
        "  y_pred = net(X)\n",
        "  \n",
        "  # MSE loss 미분 계산\n",
        "  loss = loss_fn(y_pred, y)\n",
        "  loss.backward()\n",
        "  \n",
        "  # 경사를 갱신한다\n",
        "  optimizer.step()\n",
        "  \n",
        "  # 수렴 확인을 위한 loss를 기록해 둔다\n",
        "  losses.append(loss.item())"
      ],
      "execution_count": 0,
      "outputs": []
    },
    {
      "cell_type": "markdown",
      "metadata": {
        "id": "DuvzMmB8H-Bm",
        "colab_type": "text"
      },
      "source": [
        "# 리스트 2.14\n",
        "정답률"
      ]
    },
    {
      "cell_type": "code",
      "metadata": {
        "id": "7zuxPy0UIAxo",
        "colab_type": "code",
        "outputId": "1442ae20-bc33-4951-8513-7058150a2f81",
        "colab": {
          "base_uri": "https://localhost:8080/",
          "height": 34
        }
      },
      "source": [
        "# torch.max는 집계축을 지정하면 최댓값뿐만 아니라 그 위치도 반환한다\n",
        "_, y_pred = torch.max(net(X), 1)\n",
        "\n",
        "# 정답률을 계산한다\n",
        "(y_pred == y).sum().item() / len(y)"
      ],
      "execution_count": 0,
      "outputs": [
        {
          "output_type": "execute_result",
          "data": {
            "text/plain": [
              "0.9476905954368392"
            ]
          },
          "metadata": {
            "tags": []
          },
          "execution_count": 83
        }
      ]
    },
    {
      "cell_type": "code",
      "metadata": {
        "id": "qm8a6ExZIOHg",
        "colab_type": "code",
        "colab": {}
      },
      "source": [
        ""
      ],
      "execution_count": 0,
      "outputs": []
    }
  ]
}