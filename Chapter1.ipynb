{
  "nbformat": 4,
  "nbformat_minor": 0,
  "metadata": {
    "colab": {
      "name": "Chapter1.ipynb",
      "version": "0.3.2",
      "provenance": [],
      "collapsed_sections": [],
      "include_colab_link": true
    },
    "language_info": {
      "codemirror_mode": {
        "name": "ipython",
        "version": 3
      },
      "file_extension": ".py",
      "mimetype": "text/x-python",
      "name": "python",
      "nbconvert_exporter": "python",
      "pygments_lexer": "ipython3",
      "version": "3.7.0"
    },
    "kernelspec": {
      "name": "python3",
      "display_name": "Python 3"
    },
    "accelerator": "GPU"
  },
  "cells": [
    {
      "cell_type": "markdown",
      "metadata": {
        "id": "view-in-github",
        "colab_type": "text"
      },
      "source": [
        "<a href=\"https://colab.research.google.com/github/kevink1103/pytorch_rookie/blob/master/Chapter1.ipynb\" target=\"_parent\"><img src=\"https://colab.research.google.com/assets/colab-badge.svg\" alt=\"Open In Colab\"/></a>"
      ]
    },
    {
      "cell_type": "code",
      "metadata": {
        "id": "GRCPmRbUIdlE",
        "colab_type": "code",
        "colab": {}
      },
      "source": [
        "import numpy as np\n",
        "import torch"
      ],
      "execution_count": 0,
      "outputs": []
    },
    {
      "cell_type": "code",
      "metadata": {
        "id": "VIlL94PDIdlL",
        "colab_type": "code",
        "colab": {}
      },
      "source": [
        "## 리스트 1.1 - 텐서 생성 예"
      ],
      "execution_count": 0,
      "outputs": []
    },
    {
      "cell_type": "code",
      "metadata": {
        "id": "rucIt1AmIdlP",
        "colab_type": "code",
        "colab": {}
      },
      "source": [
        "# 중첩 list를 지정\n",
        "t = torch.tensor([[1, 2], [3, 4.]])"
      ],
      "execution_count": 0,
      "outputs": []
    },
    {
      "cell_type": "code",
      "metadata": {
        "id": "eLQfOjKxIdlT",
        "colab_type": "code",
        "colab": {}
      },
      "source": [
        "# device를 지정하면 GPU에 텐서를 만들 수 있다\n",
        "t = torch.tensor([[1, 2], [3, 4.]], device=\"cuda:0\")"
      ],
      "execution_count": 0,
      "outputs": []
    },
    {
      "cell_type": "code",
      "metadata": {
        "id": "-RKeOeUxIdlV",
        "colab_type": "code",
        "colab": {}
      },
      "source": [
        "# dtype을 사용해 데이터형을 지정하여 텐서를 만들 수 있다\n",
        "t = torch.tensor([[1, 2], [3, 4.]], dtype=torch.float64)"
      ],
      "execution_count": 0,
      "outputs": []
    },
    {
      "cell_type": "code",
      "metadata": {
        "id": "fGUkldCVIdlY",
        "colab_type": "code",
        "colab": {}
      },
      "source": [
        "# 0부터 9까지의 수치로 초기화된 1차원 텐서\n",
        "t = torch.arange(0, 10)"
      ],
      "execution_count": 0,
      "outputs": []
    },
    {
      "cell_type": "code",
      "metadata": {
        "id": "gT15AcouIdlZ",
        "colab_type": "code",
        "colab": {}
      },
      "source": [
        "# 모든 값이 0인 100 x 10의 텐서를\n",
        "# 작성해서 to 메서드로 GPU에 전송\n",
        "t = torch.zeros(100, 10).to(\"cuda:0\")"
      ],
      "execution_count": 0,
      "outputs": []
    },
    {
      "cell_type": "code",
      "metadata": {
        "id": "A0JxHOZdIdlb",
        "colab_type": "code",
        "colab": {}
      },
      "source": [
        "# 정규 난수로 100 x 10의 텐서를 작성\n",
        "t = torch.randn(100, 10)"
      ],
      "execution_count": 0,
      "outputs": []
    },
    {
      "cell_type": "code",
      "metadata": {
        "id": "xQEnytiiIdlc",
        "colab_type": "code",
        "colab": {
          "base_uri": "https://localhost:8080/",
          "height": 34
        },
        "outputId": "d5deca5d-fb37-495f-81cb-2144cefa7f63"
      },
      "source": [
        "# 텐서의 shape은 size 메서드로 확인 가능\n",
        "t.size()"
      ],
      "execution_count": 9,
      "outputs": [
        {
          "output_type": "execute_result",
          "data": {
            "text/plain": [
              "torch.Size([100, 10])"
            ]
          },
          "metadata": {
            "tags": []
          },
          "execution_count": 9
        }
      ]
    },
    {
      "cell_type": "code",
      "metadata": {
        "id": "PvF8gcASIdlf",
        "colab_type": "code",
        "colab": {}
      },
      "source": [
        "## 리스트 1.2 - 텐서 변환 예"
      ],
      "execution_count": 0,
      "outputs": []
    },
    {
      "cell_type": "code",
      "metadata": {
        "id": "vMgYNSQpIdlg",
        "colab_type": "code",
        "colab": {}
      },
      "source": [
        "# numpy 메서드를 사용해 ndarray로 변환\n",
        "t = torch.tensor([[1,2], [3,4.]])\n",
        "x = t.numpy()"
      ],
      "execution_count": 0,
      "outputs": []
    },
    {
      "cell_type": "code",
      "metadata": {
        "id": "BSVXx3LQIdli",
        "colab_type": "code",
        "colab": {}
      },
      "source": [
        "# GPU상의 텐서는 to 메서드로,\n",
        "# CPU의 텐서로 이동(변환)할 필요가 있다\n",
        "t = torch.tensor([[1,2], [3,4.]], device=\"cuda:0\")\n",
        "x = t.to(\"cpu\").numpy()"
      ],
      "execution_count": 0,
      "outputs": []
    },
    {
      "cell_type": "code",
      "metadata": {
        "id": "kECmQVkSIdlj",
        "colab_type": "code",
        "colab": {
          "base_uri": "https://localhost:8080/",
          "height": 85
        },
        "outputId": "7a50ff1f-371a-47bf-a7fb-c36a6ce30039"
      },
      "source": [
        "print(t)\n",
        "print(x)"
      ],
      "execution_count": 13,
      "outputs": [
        {
          "output_type": "stream",
          "text": [
            "tensor([[1., 2.],\n",
            "        [3., 4.]], device='cuda:0')\n",
            "[[1. 2.]\n",
            " [3. 4.]]\n"
          ],
          "name": "stdout"
        }
      ]
    },
    {
      "cell_type": "code",
      "metadata": {
        "id": "wesLQ1GYIdll",
        "colab_type": "code",
        "colab": {}
      },
      "source": [
        "## 리스트 1.3 - 텐서의 인덱스 조작 예"
      ],
      "execution_count": 0,
      "outputs": []
    },
    {
      "cell_type": "code",
      "metadata": {
        "id": "ThOXzu0qIdlm",
        "colab_type": "code",
        "colab": {
          "base_uri": "https://localhost:8080/",
          "height": 51
        },
        "outputId": "3d480ad4-84e7-46d3-f497-d1e6a4a08a09"
      },
      "source": [
        "t = torch.tensor([[1,2,3], [4,5,6.]])\n",
        "print(t)"
      ],
      "execution_count": 15,
      "outputs": [
        {
          "output_type": "stream",
          "text": [
            "tensor([[1., 2., 3.],\n",
            "        [4., 5., 6.]])\n"
          ],
          "name": "stdout"
        }
      ]
    },
    {
      "cell_type": "code",
      "metadata": {
        "id": "4IFIh3QXIdlo",
        "colab_type": "code",
        "colab": {
          "base_uri": "https://localhost:8080/",
          "height": 34
        },
        "outputId": "9804296b-ae22-43eb-9ac6-ea1e0b2d596a"
      },
      "source": [
        "# 스칼라 첨자 지정 (row, column)\n",
        "t[0, 2]"
      ],
      "execution_count": 16,
      "outputs": [
        {
          "output_type": "execute_result",
          "data": {
            "text/plain": [
              "tensor(3.)"
            ]
          },
          "metadata": {
            "tags": []
          },
          "execution_count": 16
        }
      ]
    },
    {
      "cell_type": "code",
      "metadata": {
        "id": "I5HfyzAVIdlq",
        "colab_type": "code",
        "colab": {
          "base_uri": "https://localhost:8080/",
          "height": 51
        },
        "outputId": "2f4d7535-e584-429d-88aa-6d0af2fda244"
      },
      "source": [
        "# 슬라이스로 지정\n",
        "t[:, :2]"
      ],
      "execution_count": 17,
      "outputs": [
        {
          "output_type": "execute_result",
          "data": {
            "text/plain": [
              "tensor([[1., 2.],\n",
              "        [4., 5.]])"
            ]
          },
          "metadata": {
            "tags": []
          },
          "execution_count": 17
        }
      ]
    },
    {
      "cell_type": "code",
      "metadata": {
        "id": "l6weXoV9Idls",
        "colab_type": "code",
        "colab": {
          "base_uri": "https://localhost:8080/",
          "height": 51
        },
        "outputId": "21d9d08b-431b-4fec-93d9-af594c74bc42"
      },
      "source": [
        "# 리스트로 지정\n",
        "t[:, [1,2]]"
      ],
      "execution_count": 18,
      "outputs": [
        {
          "output_type": "execute_result",
          "data": {
            "text/plain": [
              "tensor([[2., 3.],\n",
              "        [5., 6.]])"
            ]
          },
          "metadata": {
            "tags": []
          },
          "execution_count": 18
        }
      ]
    },
    {
      "cell_type": "code",
      "metadata": {
        "id": "0-4Y29joIdlu",
        "colab_type": "code",
        "colab": {
          "base_uri": "https://localhost:8080/",
          "height": 34
        },
        "outputId": "9f78e716-40e9-40c9-d9ed-866d2c00594c"
      },
      "source": [
        "# 마스크 배열을 사용해서 3보다 큰 부분만 선택\n",
        "t[t > 3]"
      ],
      "execution_count": 19,
      "outputs": [
        {
          "output_type": "execute_result",
          "data": {
            "text/plain": [
              "tensor([4., 5., 6.])"
            ]
          },
          "metadata": {
            "tags": []
          },
          "execution_count": 19
        }
      ]
    },
    {
      "cell_type": "code",
      "metadata": {
        "id": "0cgYDiyCIdlw",
        "colab_type": "code",
        "colab": {
          "base_uri": "https://localhost:8080/",
          "height": 51
        },
        "outputId": "1ba84ded-82b2-44f7-9bd5-4f47790cdf26"
      },
      "source": [
        "# [0, 1]의 요소를 100으로 설정\n",
        "t[0, 1] = 100\n",
        "print(t)"
      ],
      "execution_count": 20,
      "outputs": [
        {
          "output_type": "stream",
          "text": [
            "tensor([[  1., 100.,   3.],\n",
            "        [  4.,   5.,   6.]])\n"
          ],
          "name": "stdout"
        }
      ]
    },
    {
      "cell_type": "code",
      "metadata": {
        "id": "0DsrcpJ5Idlx",
        "colab_type": "code",
        "colab": {
          "base_uri": "https://localhost:8080/",
          "height": 51
        },
        "outputId": "93df63b3-667f-47da-da71-21894be63657"
      },
      "source": [
        "# 슬라이스를 사용한 일괄 대입\n",
        "t[:, 1] = 200\n",
        "print(t)"
      ],
      "execution_count": 21,
      "outputs": [
        {
          "output_type": "stream",
          "text": [
            "tensor([[  1., 200.,   3.],\n",
            "        [  4., 200.,   6.]])\n"
          ],
          "name": "stdout"
        }
      ]
    },
    {
      "cell_type": "code",
      "metadata": {
        "id": "eCfrfPwrIdlz",
        "colab_type": "code",
        "colab": {
          "base_uri": "https://localhost:8080/",
          "height": 51
        },
        "outputId": "80f571ad-471a-40d2-cf3d-29e4d0e70dd4"
      },
      "source": [
        "# 마스크 배열을 사용해서 특정 조건의 요소만 치환\n",
        "t[t > 10] = 20\n",
        "print(t)"
      ],
      "execution_count": 22,
      "outputs": [
        {
          "output_type": "stream",
          "text": [
            "tensor([[ 1., 20.,  3.],\n",
            "        [ 4., 20.,  6.]])\n"
          ],
          "name": "stdout"
        }
      ]
    },
    {
      "cell_type": "code",
      "metadata": {
        "id": "qToXQE0zIdl0",
        "colab_type": "code",
        "colab": {}
      },
      "source": [
        "## 리스트 1.4 - 텐서 연산"
      ],
      "execution_count": 0,
      "outputs": []
    },
    {
      "cell_type": "code",
      "metadata": {
        "id": "nePEnIcjIdl1",
        "colab_type": "code",
        "colab": {
          "base_uri": "https://localhost:8080/",
          "height": 85
        },
        "outputId": "729353ce-b7d5-444b-b048-26ce1fc954b0"
      },
      "source": [
        "# 길이 3인 벡터\n",
        "v = torch.tensor([1, 2, 3.])\n",
        "w = torch.tensor([0, 10, 20.])\n",
        "# 2 x 3의 행렬\n",
        "m = torch.tensor([[0, 1, 2], [100, 200, 300.]])\n",
        "print(v)\n",
        "print(w)\n",
        "print(m)"
      ],
      "execution_count": 24,
      "outputs": [
        {
          "output_type": "stream",
          "text": [
            "tensor([1., 2., 3.])\n",
            "tensor([ 0., 10., 20.])\n",
            "tensor([[  0.,   1.,   2.],\n",
            "        [100., 200., 300.]])\n"
          ],
          "name": "stdout"
        }
      ]
    },
    {
      "cell_type": "code",
      "metadata": {
        "id": "UFNkFc7-Idl2",
        "colab_type": "code",
        "colab": {
          "base_uri": "https://localhost:8080/",
          "height": 34
        },
        "outputId": "1a57ff19-4ee3-46f2-cef0-85bbbb5e5261"
      },
      "source": [
        "# 벡터와 스칼라의 덧셈\n",
        "v2 = v + 10\n",
        "print(v2)"
      ],
      "execution_count": 25,
      "outputs": [
        {
          "output_type": "stream",
          "text": [
            "tensor([11., 12., 13.])\n"
          ],
          "name": "stdout"
        }
      ]
    },
    {
      "cell_type": "code",
      "metadata": {
        "id": "rSuMczPqIdl4",
        "colab_type": "code",
        "colab": {
          "base_uri": "https://localhost:8080/",
          "height": 34
        },
        "outputId": "a97009e9-1eb8-4f08-e1f8-0d1ea428ef4a"
      },
      "source": [
        "# 제곱도 같은 방식\n",
        "v2 = v ** 2\n",
        "print(v2)"
      ],
      "execution_count": 26,
      "outputs": [
        {
          "output_type": "stream",
          "text": [
            "tensor([1., 4., 9.])\n"
          ],
          "name": "stdout"
        }
      ]
    },
    {
      "cell_type": "code",
      "metadata": {
        "id": "pQxbY6IqIdl5",
        "colab_type": "code",
        "colab": {
          "base_uri": "https://localhost:8080/",
          "height": 34
        },
        "outputId": "e58ff647-10f0-48a4-9552-f21122e766ac"
      },
      "source": [
        "# 동일 길이의 벡터 간 뺄쎔\n",
        "z = v - w\n",
        "print(z)"
      ],
      "execution_count": 27,
      "outputs": [
        {
          "output_type": "stream",
          "text": [
            "tensor([  1.,  -8., -17.])\n"
          ],
          "name": "stdout"
        }
      ]
    },
    {
      "cell_type": "code",
      "metadata": {
        "id": "k5d0ZAJwIdl6",
        "colab_type": "code",
        "colab": {
          "base_uri": "https://localhost:8080/",
          "height": 34
        },
        "outputId": "0951d3a4-fcec-42f4-833a-bd12561d799d"
      },
      "source": [
        "# 여러가지 조합\n",
        "u = 2 * v - w / 10 + 6.0\n",
        "print(u)"
      ],
      "execution_count": 28,
      "outputs": [
        {
          "output_type": "stream",
          "text": [
            "tensor([ 8.,  9., 10.])\n"
          ],
          "name": "stdout"
        }
      ]
    },
    {
      "cell_type": "code",
      "metadata": {
        "id": "QX68eQd7Idl7",
        "colab_type": "code",
        "colab": {
          "base_uri": "https://localhost:8080/",
          "height": 51
        },
        "outputId": "21b4852a-6ef1-4fc1-dc6a-eb5648c21a6f"
      },
      "source": [
        "# 행렬과 스칼라\n",
        "m2 = m * 2.0\n",
        "print(m2)"
      ],
      "execution_count": 29,
      "outputs": [
        {
          "output_type": "stream",
          "text": [
            "tensor([[  0.,   2.,   4.],\n",
            "        [200., 400., 600.]])\n"
          ],
          "name": "stdout"
        }
      ]
    },
    {
      "cell_type": "code",
      "metadata": {
        "id": "-lpVu4TTIdl8",
        "colab_type": "code",
        "colab": {
          "base_uri": "https://localhost:8080/",
          "height": 51
        },
        "outputId": "d655ee8f-88cd-45fe-9e23-e3bd30b0dd59"
      },
      "source": [
        "# 행렬과 벡터\n",
        "# (2, 3)인 행렬과 (3,)인 벡터이므로 브로드캐스트가 작동\n",
        "m3 = m + v\n",
        "print(m3)"
      ],
      "execution_count": 30,
      "outputs": [
        {
          "output_type": "stream",
          "text": [
            "tensor([[  1.,   3.,   5.],\n",
            "        [101., 202., 303.]])\n"
          ],
          "name": "stdout"
        }
      ]
    },
    {
      "cell_type": "code",
      "metadata": {
        "id": "LXXb3zlVIdl-",
        "colab_type": "code",
        "colab": {
          "base_uri": "https://localhost:8080/",
          "height": 51
        },
        "outputId": "040d1d1e-8af7-4473-98ad-4b02f0e2a157"
      },
      "source": [
        "# 행렬 간 처리\n",
        "m4 = m + m\n",
        "print(m4)"
      ],
      "execution_count": 31,
      "outputs": [
        {
          "output_type": "stream",
          "text": [
            "tensor([[  0.,   2.,   4.],\n",
            "        [200., 400., 600.]])\n"
          ],
          "name": "stdout"
        }
      ]
    },
    {
      "cell_type": "code",
      "metadata": {
        "id": "3msn5XH-Idl_",
        "colab_type": "code",
        "colab": {}
      },
      "source": [
        "## 리스트 1.5 - 수학 함수"
      ],
      "execution_count": 0,
      "outputs": []
    },
    {
      "cell_type": "code",
      "metadata": {
        "id": "SnpmiDReIdmA",
        "colab_type": "code",
        "colab": {}
      },
      "source": [
        "# 100 x 10의 테스트 데이터 생성\n",
        "X = torch.randn(100, 10)"
      ],
      "execution_count": 0,
      "outputs": []
    },
    {
      "cell_type": "code",
      "metadata": {
        "id": "u3yxmmd5IdmB",
        "colab_type": "code",
        "colab": {}
      },
      "source": [
        "# 수학 함수를 표함하는 수식\n",
        "Y = X * 2 + torch.abs(X)"
      ],
      "execution_count": 0,
      "outputs": []
    },
    {
      "cell_type": "code",
      "metadata": {
        "id": "-_Z5bcjSIdmC",
        "colab_type": "code",
        "colab": {}
      },
      "source": [
        "# 평균치 구하기\n",
        "m = torch.mean(X)"
      ],
      "execution_count": 0,
      "outputs": []
    },
    {
      "cell_type": "code",
      "metadata": {
        "id": "D2XVJLwrIdmD",
        "colab_type": "code",
        "colab": {
          "base_uri": "https://localhost:8080/",
          "height": 34
        },
        "outputId": "91a93c20-c090-46d6-b1af-ce761fad9510"
      },
      "source": [
        "# 함수가 아닌 메서드로도 사용할 수 있다\n",
        "m = X.mean()\n",
        "print(m)"
      ],
      "execution_count": 36,
      "outputs": [
        {
          "output_type": "stream",
          "text": [
            "tensor(0.0763)\n"
          ],
          "name": "stdout"
        }
      ]
    },
    {
      "cell_type": "code",
      "metadata": {
        "id": "GNP0uKLyIdmE",
        "colab_type": "code",
        "colab": {
          "base_uri": "https://localhost:8080/",
          "height": 34
        },
        "outputId": "72be4467-7233-4320-e814-7a8fa653c2e2"
      },
      "source": [
        "# 집계 결과는 0차원의 텐서로 item 메서드를 사용해서\n",
        "# 값을 추출할 수 있다\n",
        "m_value = m.item()\n",
        "print(m_value)"
      ],
      "execution_count": 37,
      "outputs": [
        {
          "output_type": "stream",
          "text": [
            "0.07627718895673752\n"
          ],
          "name": "stdout"
        }
      ]
    },
    {
      "cell_type": "code",
      "metadata": {
        "id": "Vc1zCQEAIdmF",
        "colab_type": "code",
        "colab": {
          "base_uri": "https://localhost:8080/",
          "height": 68
        },
        "outputId": "9334b629-b2c5-4678-e77b-74c994241b71"
      },
      "source": [
        "# 집계는 차원을 지정할 수도 있다. 다음은 행 방향으로 집계해서, (size=10)\n",
        "# 열 단위로 평균값을 계산한다\n",
        "m2 = X.mean(0)\n",
        "print(m2)\n",
        "m2.size()"
      ],
      "execution_count": 38,
      "outputs": [
        {
          "output_type": "stream",
          "text": [
            "tensor([ 0.0452, -0.0132,  0.1459, -0.0151,  0.0896, -0.0028,  0.1016,  0.2910,\n",
            "         0.0888,  0.0318])\n"
          ],
          "name": "stdout"
        },
        {
          "output_type": "execute_result",
          "data": {
            "text/plain": [
              "torch.Size([10])"
            ]
          },
          "metadata": {
            "tags": []
          },
          "execution_count": 38
        }
      ]
    },
    {
      "cell_type": "code",
      "metadata": {
        "id": "sFA_4e0MIdmG",
        "colab_type": "code",
        "colab": {}
      },
      "source": [
        "## 리스트 1.6 - 텐서의 인덱스 조작 예"
      ],
      "execution_count": 0,
      "outputs": []
    },
    {
      "cell_type": "code",
      "metadata": {
        "id": "tyHSoyPLIdmG",
        "colab_type": "code",
        "colab": {
          "base_uri": "https://localhost:8080/",
          "height": 85
        },
        "outputId": "635abfcc-0d0b-4649-dae5-ce1d35fe644d"
      },
      "source": [
        "x1 = torch.tensor([[1, 2], [3, 4.]]) # 2x2\n",
        "x2 = torch.tensor([[10, 20, 30], [40, 50, 60.]]) # 2x3\n",
        "print(x1)\n",
        "print(x2)"
      ],
      "execution_count": 40,
      "outputs": [
        {
          "output_type": "stream",
          "text": [
            "tensor([[1., 2.],\n",
            "        [3., 4.]])\n",
            "tensor([[10., 20., 30.],\n",
            "        [40., 50., 60.]])\n"
          ],
          "name": "stdout"
        }
      ]
    },
    {
      "cell_type": "code",
      "metadata": {
        "id": "nQUn85F7IdmH",
        "colab_type": "code",
        "colab": {
          "base_uri": "https://localhost:8080/",
          "height": 85
        },
        "outputId": "2b0ef879-547a-4db5-cef1-dcc7340e6861"
      },
      "source": [
        "# 2x2를 4x1로 보여 준다\n",
        "x1.view(4, 1)"
      ],
      "execution_count": 41,
      "outputs": [
        {
          "output_type": "execute_result",
          "data": {
            "text/plain": [
              "tensor([[1.],\n",
              "        [2.],\n",
              "        [3.],\n",
              "        [4.]])"
            ]
          },
          "metadata": {
            "tags": []
          },
          "execution_count": 41
        }
      ]
    },
    {
      "cell_type": "code",
      "metadata": {
        "id": "8nLyW2n0IdmI",
        "colab_type": "code",
        "colab": {
          "base_uri": "https://localhost:8080/",
          "height": 34
        },
        "outputId": "32cfe277-b7a6-4152-b4a8-43bb1b0bd6b2"
      },
      "source": [
        "# -1은 표현할 수 있는 자동화된 값으로 대체되며, 한 번만 사용할 수 있다\n",
        "# 아래 예에선 -1을 사용하면 자동으로 4가 된다\n",
        "x1.view(1, -1)"
      ],
      "execution_count": 42,
      "outputs": [
        {
          "output_type": "execute_result",
          "data": {
            "text/plain": [
              "tensor([[1., 2., 3., 4.]])"
            ]
          },
          "metadata": {
            "tags": []
          },
          "execution_count": 42
        }
      ]
    },
    {
      "cell_type": "code",
      "metadata": {
        "id": "KCPm6Sf5IdmJ",
        "colab_type": "code",
        "colab": {
          "base_uri": "https://localhost:8080/",
          "height": 68
        },
        "outputId": "82244465-4db6-4398-ce56-3be8c469a89a"
      },
      "source": [
        "# 2x3을 전치해서 3x2로 만든다 (transform)\n",
        "x2.t()"
      ],
      "execution_count": 43,
      "outputs": [
        {
          "output_type": "execute_result",
          "data": {
            "text/plain": [
              "tensor([[10., 40.],\n",
              "        [20., 50.],\n",
              "        [30., 60.]])"
            ]
          },
          "metadata": {
            "tags": []
          },
          "execution_count": 43
        }
      ]
    },
    {
      "cell_type": "code",
      "metadata": {
        "id": "j6HT73lJIdmL",
        "colab_type": "code",
        "colab": {
          "base_uri": "https://localhost:8080/",
          "height": 51
        },
        "outputId": "a94a0893-ddc0-47ab-ee8e-1441e3117de8"
      },
      "source": [
        "# dim=1로 결합하면 2x5의 텐서를 만든다 (옆으로 append 개념)\n",
        "torch.cat([x1, x2], dim=1)"
      ],
      "execution_count": 44,
      "outputs": [
        {
          "output_type": "execute_result",
          "data": {
            "text/plain": [
              "tensor([[ 1.,  2., 10., 20., 30.],\n",
              "        [ 3.,  4., 40., 50., 60.]])"
            ]
          },
          "metadata": {
            "tags": []
          },
          "execution_count": 44
        }
      ]
    },
    {
      "cell_type": "code",
      "metadata": {
        "id": "xPTMuU5gIdmM",
        "colab_type": "code",
        "colab": {
          "base_uri": "https://localhost:8080/",
          "height": 102
        },
        "outputId": "8c099b42-d94b-4831-b246-cd7d70b0021f"
      },
      "source": [
        "# HWC을 CHW로 변환\n",
        "# 64x32x3의 데이터가 100개\n",
        "hwc_img_data = torch.rand(100, 64, 32, 3)\n",
        "chw_img_data = hwc_img_data.transpose(1, 2).transpose(1, 3)\n",
        "print(hwc_img_data[0, 0, 0])\n",
        "print(chw_img_data[0, 0, 0])"
      ],
      "execution_count": 72,
      "outputs": [
        {
          "output_type": "stream",
          "text": [
            "tensor([0.7119, 0.4791, 0.3556])\n",
            "tensor([0.7119, 0.9908, 0.4473, 0.4550, 0.3410, 0.1995, 0.2487, 0.2413, 0.4512,\n",
            "        0.3728, 0.7876, 0.7870, 0.6216, 0.1281, 0.4661, 0.5718, 0.1632, 0.9281,\n",
            "        0.1070, 0.0923, 0.0716, 0.1388, 0.4309, 0.5066, 0.3317, 0.0308, 0.8645,\n",
            "        0.0191, 0.8278, 0.5417, 0.4991, 0.5564])\n"
          ],
          "name": "stdout"
        }
      ]
    },
    {
      "cell_type": "code",
      "metadata": {
        "id": "Fh6tHOFhKBSf",
        "colab_type": "code",
        "colab": {}
      },
      "source": [
        "## 리스트 1.7 - 연산 예"
      ],
      "execution_count": 0,
      "outputs": []
    },
    {
      "cell_type": "code",
      "metadata": {
        "id": "wR0oEdU_QXgI",
        "colab_type": "code",
        "colab": {}
      },
      "source": [
        ""
      ],
      "execution_count": 0,
      "outputs": []
    }
  ]
}