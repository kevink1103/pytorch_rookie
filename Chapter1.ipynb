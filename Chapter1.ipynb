{
  "nbformat": 4,
  "nbformat_minor": 0,
  "metadata": {
    "colab": {
      "name": "Chapter1.ipynb",
      "version": "0.3.2",
      "provenance": [],
      "collapsed_sections": [],
      "include_colab_link": true
    },
    "language_info": {
      "codemirror_mode": {
        "name": "ipython",
        "version": 3
      },
      "file_extension": ".py",
      "mimetype": "text/x-python",
      "name": "python",
      "nbconvert_exporter": "python",
      "pygments_lexer": "ipython3",
      "version": "3.7.0"
    },
    "kernelspec": {
      "name": "python3",
      "display_name": "Python 3"
    },
    "accelerator": "GPU"
  },
  "cells": [
    {
      "cell_type": "markdown",
      "metadata": {
        "id": "view-in-github",
        "colab_type": "text"
      },
      "source": [
        "<a href=\"https://colab.research.google.com/github/kevink1103/pytorch_rookie/blob/master/Chapter1.ipynb\" target=\"_parent\"><img src=\"https://colab.research.google.com/assets/colab-badge.svg\" alt=\"Open In Colab\"/></a>"
      ]
    },
    {
      "cell_type": "code",
      "metadata": {
        "id": "GRCPmRbUIdlE",
        "colab_type": "code",
        "colab": {}
      },
      "source": [
        "import numpy as np\n",
        "import torch"
      ],
      "execution_count": 0,
      "outputs": []
    },
    {
      "cell_type": "code",
      "metadata": {
        "id": "VIlL94PDIdlL",
        "colab_type": "code",
        "colab": {}
      },
      "source": [
        "## 리스트 1.1 - 텐서 생성 예"
      ],
      "execution_count": 0,
      "outputs": []
    },
    {
      "cell_type": "code",
      "metadata": {
        "id": "rucIt1AmIdlP",
        "colab_type": "code",
        "colab": {}
      },
      "source": [
        "# 중첩 list를 지정\n",
        "t = torch.tensor([[1, 2], [3, 4.]])"
      ],
      "execution_count": 0,
      "outputs": []
    },
    {
      "cell_type": "code",
      "metadata": {
        "id": "eLQfOjKxIdlT",
        "colab_type": "code",
        "colab": {}
      },
      "source": [
        "# device를 지정하면 GPU에 텐서를 만들 수 있다\n",
        "t = torch.tensor([[1, 2], [3, 4.]], device=\"cuda:0\")"
      ],
      "execution_count": 0,
      "outputs": []
    },
    {
      "cell_type": "code",
      "metadata": {
        "id": "-RKeOeUxIdlV",
        "colab_type": "code",
        "colab": {}
      },
      "source": [
        "# dtype을 사용해 데이터형을 지정하여 텐서를 만들 수 있다\n",
        "t = torch.tensor([[1, 2], [3, 4.]], dtype=torch.float64)"
      ],
      "execution_count": 0,
      "outputs": []
    },
    {
      "cell_type": "code",
      "metadata": {
        "id": "fGUkldCVIdlY",
        "colab_type": "code",
        "colab": {}
      },
      "source": [
        "# 0부터 9까지의 수치로 초기화된 1차원 텐서\n",
        "t = torch.arange(0, 10)"
      ],
      "execution_count": 0,
      "outputs": []
    },
    {
      "cell_type": "code",
      "metadata": {
        "id": "gT15AcouIdlZ",
        "colab_type": "code",
        "colab": {}
      },
      "source": [
        "# 모든 값이 0인 100 x 10의 텐서를\n",
        "# 작성해서 to 메서드로 GPU에 전송\n",
        "t = torch.zeros(100, 10).to(\"cuda:0\")"
      ],
      "execution_count": 0,
      "outputs": []
    },
    {
      "cell_type": "code",
      "metadata": {
        "id": "A0JxHOZdIdlb",
        "colab_type": "code",
        "colab": {}
      },
      "source": [
        "# 정규 난수로 100 x 10의 텐서를 작성\n",
        "t = torch.randn(100, 10)"
      ],
      "execution_count": 0,
      "outputs": []
    },
    {
      "cell_type": "code",
      "metadata": {
        "id": "xQEnytiiIdlc",
        "colab_type": "code",
        "colab": {
          "base_uri": "https://localhost:8080/",
          "height": 34
        },
        "outputId": "0c9220f3-d0db-4b3e-d14a-2fa55924c0a8"
      },
      "source": [
        "# 텐서의 shape은 size 메서드로 확인 가능\n",
        "t.size()"
      ],
      "execution_count": 9,
      "outputs": [
        {
          "output_type": "execute_result",
          "data": {
            "text/plain": [
              "torch.Size([100, 10])"
            ]
          },
          "metadata": {
            "tags": []
          },
          "execution_count": 9
        }
      ]
    },
    {
      "cell_type": "code",
      "metadata": {
        "id": "PvF8gcASIdlf",
        "colab_type": "code",
        "colab": {}
      },
      "source": [
        "## 리스트 1.2 - 텐서 변환 예"
      ],
      "execution_count": 0,
      "outputs": []
    },
    {
      "cell_type": "code",
      "metadata": {
        "id": "vMgYNSQpIdlg",
        "colab_type": "code",
        "colab": {}
      },
      "source": [
        "# numpy 메서드를 사용해 ndarray로 변환\n",
        "t = torch.tensor([[1,2], [3,4.]])\n",
        "x = t.numpy()"
      ],
      "execution_count": 0,
      "outputs": []
    },
    {
      "cell_type": "code",
      "metadata": {
        "id": "BSVXx3LQIdli",
        "colab_type": "code",
        "colab": {}
      },
      "source": [
        "# GPU상의 텐서는 to 메서드로,\n",
        "# CPU의 텐서로 이동(변환)할 필요가 있다\n",
        "t = torch.tensor([[1,2], [3,4.]], device=\"cuda:0\")\n",
        "x = t.to(\"cpu\").numpy()"
      ],
      "execution_count": 0,
      "outputs": []
    },
    {
      "cell_type": "code",
      "metadata": {
        "id": "kECmQVkSIdlj",
        "colab_type": "code",
        "colab": {
          "base_uri": "https://localhost:8080/",
          "height": 85
        },
        "outputId": "fc54be8c-9dce-4bbb-ffef-f0f4a402848c"
      },
      "source": [
        "print(t)\n",
        "print(x)"
      ],
      "execution_count": 13,
      "outputs": [
        {
          "output_type": "stream",
          "text": [
            "tensor([[1., 2.],\n",
            "        [3., 4.]], device='cuda:0')\n",
            "[[1. 2.]\n",
            " [3. 4.]]\n"
          ],
          "name": "stdout"
        }
      ]
    },
    {
      "cell_type": "code",
      "metadata": {
        "id": "wesLQ1GYIdll",
        "colab_type": "code",
        "colab": {}
      },
      "source": [
        "## 리스트 1.3 - 텐서의 인덱스 조작 예"
      ],
      "execution_count": 0,
      "outputs": []
    },
    {
      "cell_type": "code",
      "metadata": {
        "id": "ThOXzu0qIdlm",
        "colab_type": "code",
        "colab": {
          "base_uri": "https://localhost:8080/",
          "height": 51
        },
        "outputId": "6c1ab81d-2c29-4e71-ed4c-4d0a6c7b8615"
      },
      "source": [
        "t = torch.tensor([[1,2,3], [4,5,6.]])\n",
        "print(t)"
      ],
      "execution_count": 15,
      "outputs": [
        {
          "output_type": "stream",
          "text": [
            "tensor([[1., 2., 3.],\n",
            "        [4., 5., 6.]])\n"
          ],
          "name": "stdout"
        }
      ]
    },
    {
      "cell_type": "code",
      "metadata": {
        "id": "4IFIh3QXIdlo",
        "colab_type": "code",
        "colab": {
          "base_uri": "https://localhost:8080/",
          "height": 34
        },
        "outputId": "7e225f0e-aca8-49c6-a5d1-53a0a7c4838a"
      },
      "source": [
        "# 스칼라 첨자 지정 (row, column)\n",
        "t[0, 2]"
      ],
      "execution_count": 16,
      "outputs": [
        {
          "output_type": "execute_result",
          "data": {
            "text/plain": [
              "tensor(3.)"
            ]
          },
          "metadata": {
            "tags": []
          },
          "execution_count": 16
        }
      ]
    },
    {
      "cell_type": "code",
      "metadata": {
        "id": "I5HfyzAVIdlq",
        "colab_type": "code",
        "colab": {
          "base_uri": "https://localhost:8080/",
          "height": 51
        },
        "outputId": "66295815-dff9-4111-ad1c-7d9beecd3c4f"
      },
      "source": [
        "# 슬라이스로 지정\n",
        "t[:, :2]"
      ],
      "execution_count": 17,
      "outputs": [
        {
          "output_type": "execute_result",
          "data": {
            "text/plain": [
              "tensor([[1., 2.],\n",
              "        [4., 5.]])"
            ]
          },
          "metadata": {
            "tags": []
          },
          "execution_count": 17
        }
      ]
    },
    {
      "cell_type": "code",
      "metadata": {
        "id": "l6weXoV9Idls",
        "colab_type": "code",
        "colab": {
          "base_uri": "https://localhost:8080/",
          "height": 51
        },
        "outputId": "a2ca4be3-ad89-445f-e71f-184fa3faf7ae"
      },
      "source": [
        "# 리스트로 지정\n",
        "t[:, [1,2]]"
      ],
      "execution_count": 18,
      "outputs": [
        {
          "output_type": "execute_result",
          "data": {
            "text/plain": [
              "tensor([[2., 3.],\n",
              "        [5., 6.]])"
            ]
          },
          "metadata": {
            "tags": []
          },
          "execution_count": 18
        }
      ]
    },
    {
      "cell_type": "code",
      "metadata": {
        "id": "0-4Y29joIdlu",
        "colab_type": "code",
        "colab": {
          "base_uri": "https://localhost:8080/",
          "height": 34
        },
        "outputId": "fa21d0ef-8f84-47e5-d632-a386dab84645"
      },
      "source": [
        "# 마스크 배열을 사용해서 3보다 큰 부분만 선택\n",
        "t[t > 3]"
      ],
      "execution_count": 19,
      "outputs": [
        {
          "output_type": "execute_result",
          "data": {
            "text/plain": [
              "tensor([4., 5., 6.])"
            ]
          },
          "metadata": {
            "tags": []
          },
          "execution_count": 19
        }
      ]
    },
    {
      "cell_type": "code",
      "metadata": {
        "id": "0cgYDiyCIdlw",
        "colab_type": "code",
        "colab": {
          "base_uri": "https://localhost:8080/",
          "height": 51
        },
        "outputId": "5fa9e405-1317-4afe-c86c-e2ae59a4a9d2"
      },
      "source": [
        "# [0, 1]의 요소를 100으로 설정\n",
        "t[0, 1] = 100\n",
        "print(t)"
      ],
      "execution_count": 20,
      "outputs": [
        {
          "output_type": "stream",
          "text": [
            "tensor([[  1., 100.,   3.],\n",
            "        [  4.,   5.,   6.]])\n"
          ],
          "name": "stdout"
        }
      ]
    },
    {
      "cell_type": "code",
      "metadata": {
        "id": "0DsrcpJ5Idlx",
        "colab_type": "code",
        "colab": {
          "base_uri": "https://localhost:8080/",
          "height": 51
        },
        "outputId": "736d622a-0d6a-41d7-82b9-b45d8a2ed5e8"
      },
      "source": [
        "# 슬라이스를 사용한 일괄 대입\n",
        "t[:, 1] = 200\n",
        "print(t)"
      ],
      "execution_count": 21,
      "outputs": [
        {
          "output_type": "stream",
          "text": [
            "tensor([[  1., 200.,   3.],\n",
            "        [  4., 200.,   6.]])\n"
          ],
          "name": "stdout"
        }
      ]
    },
    {
      "cell_type": "code",
      "metadata": {
        "id": "eCfrfPwrIdlz",
        "colab_type": "code",
        "colab": {
          "base_uri": "https://localhost:8080/",
          "height": 51
        },
        "outputId": "4d8c4c13-205e-4184-d690-6ac77ab20696"
      },
      "source": [
        "# 마스크 배열을 사용해서 특정 조건의 요소만 치환\n",
        "t[t > 10] = 20\n",
        "print(t)"
      ],
      "execution_count": 22,
      "outputs": [
        {
          "output_type": "stream",
          "text": [
            "tensor([[ 1., 20.,  3.],\n",
            "        [ 4., 20.,  6.]])\n"
          ],
          "name": "stdout"
        }
      ]
    },
    {
      "cell_type": "code",
      "metadata": {
        "id": "qToXQE0zIdl0",
        "colab_type": "code",
        "colab": {}
      },
      "source": [
        "## 리스트 1.4 - 텐서 연산"
      ],
      "execution_count": 0,
      "outputs": []
    },
    {
      "cell_type": "code",
      "metadata": {
        "id": "nePEnIcjIdl1",
        "colab_type": "code",
        "colab": {
          "base_uri": "https://localhost:8080/",
          "height": 85
        },
        "outputId": "9b9da7ad-3b47-4345-fd45-66b8695fe270"
      },
      "source": [
        "# 길이 3인 벡터\n",
        "v = torch.tensor([1, 2, 3.])\n",
        "w = torch.tensor([0, 10, 20.])\n",
        "# 2 x 3의 행렬\n",
        "m = torch.tensor([[0, 1, 2], [100, 200, 300.]])\n",
        "print(v)\n",
        "print(w)\n",
        "print(m)"
      ],
      "execution_count": 24,
      "outputs": [
        {
          "output_type": "stream",
          "text": [
            "tensor([1., 2., 3.])\n",
            "tensor([ 0., 10., 20.])\n",
            "tensor([[  0.,   1.,   2.],\n",
            "        [100., 200., 300.]])\n"
          ],
          "name": "stdout"
        }
      ]
    },
    {
      "cell_type": "code",
      "metadata": {
        "id": "UFNkFc7-Idl2",
        "colab_type": "code",
        "colab": {
          "base_uri": "https://localhost:8080/",
          "height": 34
        },
        "outputId": "f6109e85-a879-49ff-8899-ef6e6e768308"
      },
      "source": [
        "# 벡터와 스칼라의 덧셈\n",
        "v2 = v + 10\n",
        "print(v2)"
      ],
      "execution_count": 25,
      "outputs": [
        {
          "output_type": "stream",
          "text": [
            "tensor([11., 12., 13.])\n"
          ],
          "name": "stdout"
        }
      ]
    },
    {
      "cell_type": "code",
      "metadata": {
        "id": "rSuMczPqIdl4",
        "colab_type": "code",
        "colab": {
          "base_uri": "https://localhost:8080/",
          "height": 34
        },
        "outputId": "9ee016d2-846f-40b1-bcce-84165ef60e77"
      },
      "source": [
        "# 제곱도 같은 방식\n",
        "v2 = v ** 2\n",
        "print(v2)"
      ],
      "execution_count": 26,
      "outputs": [
        {
          "output_type": "stream",
          "text": [
            "tensor([1., 4., 9.])\n"
          ],
          "name": "stdout"
        }
      ]
    },
    {
      "cell_type": "code",
      "metadata": {
        "id": "pQxbY6IqIdl5",
        "colab_type": "code",
        "colab": {
          "base_uri": "https://localhost:8080/",
          "height": 34
        },
        "outputId": "5e8af02c-d200-4294-ae21-607a5c023bbe"
      },
      "source": [
        "# 동일 길이의 벡터 간 뺄쎔\n",
        "z = v - w\n",
        "print(z)"
      ],
      "execution_count": 27,
      "outputs": [
        {
          "output_type": "stream",
          "text": [
            "tensor([  1.,  -8., -17.])\n"
          ],
          "name": "stdout"
        }
      ]
    },
    {
      "cell_type": "code",
      "metadata": {
        "id": "k5d0ZAJwIdl6",
        "colab_type": "code",
        "colab": {
          "base_uri": "https://localhost:8080/",
          "height": 34
        },
        "outputId": "0e0aae27-259d-410c-baab-77bac9f07839"
      },
      "source": [
        "# 여러가지 조합\n",
        "u = 2 * v - w / 10 + 6.0\n",
        "print(u)"
      ],
      "execution_count": 28,
      "outputs": [
        {
          "output_type": "stream",
          "text": [
            "tensor([ 8.,  9., 10.])\n"
          ],
          "name": "stdout"
        }
      ]
    },
    {
      "cell_type": "code",
      "metadata": {
        "id": "QX68eQd7Idl7",
        "colab_type": "code",
        "colab": {
          "base_uri": "https://localhost:8080/",
          "height": 51
        },
        "outputId": "075e2c70-45f8-4684-df35-5224b7121066"
      },
      "source": [
        "# 행렬과 스칼라\n",
        "m2 = m * 2.0\n",
        "print(m2)"
      ],
      "execution_count": 29,
      "outputs": [
        {
          "output_type": "stream",
          "text": [
            "tensor([[  0.,   2.,   4.],\n",
            "        [200., 400., 600.]])\n"
          ],
          "name": "stdout"
        }
      ]
    },
    {
      "cell_type": "code",
      "metadata": {
        "id": "-lpVu4TTIdl8",
        "colab_type": "code",
        "colab": {
          "base_uri": "https://localhost:8080/",
          "height": 51
        },
        "outputId": "442e801f-ccb0-4eb7-887e-54ff38e97664"
      },
      "source": [
        "# 행렬과 벡터\n",
        "# (2, 3)인 행렬과 (3,)인 벡터이므로 브로드캐스트가 작동\n",
        "m3 = m + v\n",
        "print(m3)"
      ],
      "execution_count": 30,
      "outputs": [
        {
          "output_type": "stream",
          "text": [
            "tensor([[  1.,   3.,   5.],\n",
            "        [101., 202., 303.]])\n"
          ],
          "name": "stdout"
        }
      ]
    },
    {
      "cell_type": "code",
      "metadata": {
        "id": "LXXb3zlVIdl-",
        "colab_type": "code",
        "colab": {
          "base_uri": "https://localhost:8080/",
          "height": 51
        },
        "outputId": "9860b712-c5ad-4d51-d971-180c28ed5d2e"
      },
      "source": [
        "# 행렬 간 처리\n",
        "m4 = m + m\n",
        "print(m4)"
      ],
      "execution_count": 31,
      "outputs": [
        {
          "output_type": "stream",
          "text": [
            "tensor([[  0.,   2.,   4.],\n",
            "        [200., 400., 600.]])\n"
          ],
          "name": "stdout"
        }
      ]
    },
    {
      "cell_type": "code",
      "metadata": {
        "id": "3msn5XH-Idl_",
        "colab_type": "code",
        "colab": {}
      },
      "source": [
        "## 리스트 1.5 - 수학 함수"
      ],
      "execution_count": 0,
      "outputs": []
    },
    {
      "cell_type": "code",
      "metadata": {
        "id": "SnpmiDReIdmA",
        "colab_type": "code",
        "colab": {}
      },
      "source": [
        "# 100 x 10의 테스트 데이터 생성\n",
        "X = torch.randn(100, 10)"
      ],
      "execution_count": 0,
      "outputs": []
    },
    {
      "cell_type": "code",
      "metadata": {
        "id": "u3yxmmd5IdmB",
        "colab_type": "code",
        "colab": {}
      },
      "source": [
        "# 수학 함수를 표함하는 수식\n",
        "Y = X * 2 + torch.abs(X)"
      ],
      "execution_count": 0,
      "outputs": []
    },
    {
      "cell_type": "code",
      "metadata": {
        "id": "-_Z5bcjSIdmC",
        "colab_type": "code",
        "colab": {}
      },
      "source": [
        "# 평균치 구하기\n",
        "m = torch.mean(X)"
      ],
      "execution_count": 0,
      "outputs": []
    },
    {
      "cell_type": "code",
      "metadata": {
        "id": "D2XVJLwrIdmD",
        "colab_type": "code",
        "colab": {
          "base_uri": "https://localhost:8080/",
          "height": 34
        },
        "outputId": "81b3ccb2-18a5-46bf-e8fa-0b8ccf9bbeaf"
      },
      "source": [
        "# 함수가 아닌 메서드로도 사용할 수 있다\n",
        "m = X.mean()\n",
        "print(m)"
      ],
      "execution_count": 36,
      "outputs": [
        {
          "output_type": "stream",
          "text": [
            "tensor(-0.0334)\n"
          ],
          "name": "stdout"
        }
      ]
    },
    {
      "cell_type": "code",
      "metadata": {
        "id": "GNP0uKLyIdmE",
        "colab_type": "code",
        "colab": {
          "base_uri": "https://localhost:8080/",
          "height": 34
        },
        "outputId": "4f2f0c56-c036-44e0-ae05-6f606213cde7"
      },
      "source": [
        "# 집계 결과는 0차원의 텐서로 item 메서드를 사용해서\n",
        "# 값을 추출할 수 있다\n",
        "m_value = m.item()\n",
        "print(m_value)"
      ],
      "execution_count": 37,
      "outputs": [
        {
          "output_type": "stream",
          "text": [
            "-0.033428650349378586\n"
          ],
          "name": "stdout"
        }
      ]
    },
    {
      "cell_type": "code",
      "metadata": {
        "id": "Vc1zCQEAIdmF",
        "colab_type": "code",
        "colab": {
          "base_uri": "https://localhost:8080/",
          "height": 68
        },
        "outputId": "137d28df-ffed-4a97-81cf-add4051b3b70"
      },
      "source": [
        "# 집계는 차원을 지정할 수도 있다. 다음은 행 방향으로 집계해서, (size=10)\n",
        "# 열 단위로 평균값을 계산한다\n",
        "m2 = X.mean(0)\n",
        "print(m2)\n",
        "m2.size()"
      ],
      "execution_count": 38,
      "outputs": [
        {
          "output_type": "stream",
          "text": [
            "tensor([ 0.0159, -0.1726,  0.1002, -0.1320, -0.2214, -0.0115,  0.1511, -0.1086,\n",
            "         0.0472, -0.0026])\n"
          ],
          "name": "stdout"
        },
        {
          "output_type": "execute_result",
          "data": {
            "text/plain": [
              "torch.Size([10])"
            ]
          },
          "metadata": {
            "tags": []
          },
          "execution_count": 38
        }
      ]
    },
    {
      "cell_type": "code",
      "metadata": {
        "id": "sFA_4e0MIdmG",
        "colab_type": "code",
        "colab": {}
      },
      "source": [
        "## 리스트 1.6 - 텐서의 인덱스 조작 예"
      ],
      "execution_count": 0,
      "outputs": []
    },
    {
      "cell_type": "code",
      "metadata": {
        "id": "tyHSoyPLIdmG",
        "colab_type": "code",
        "colab": {
          "base_uri": "https://localhost:8080/",
          "height": 85
        },
        "outputId": "9c16ca95-5e5d-4ae3-9403-5443474b0567"
      },
      "source": [
        "x1 = torch.tensor([[1, 2], [3, 4.]]) # 2x2\n",
        "x2 = torch.tensor([[10, 20, 30], [40, 50, 60.]]) # 2x3\n",
        "print(x1)\n",
        "print(x2)"
      ],
      "execution_count": 40,
      "outputs": [
        {
          "output_type": "stream",
          "text": [
            "tensor([[1., 2.],\n",
            "        [3., 4.]])\n",
            "tensor([[10., 20., 30.],\n",
            "        [40., 50., 60.]])\n"
          ],
          "name": "stdout"
        }
      ]
    },
    {
      "cell_type": "code",
      "metadata": {
        "id": "nQUn85F7IdmH",
        "colab_type": "code",
        "colab": {
          "base_uri": "https://localhost:8080/",
          "height": 85
        },
        "outputId": "075d6481-d197-4f8e-cfed-7574e0f8e773"
      },
      "source": [
        "# 2x2를 4x1로 보여 준다\n",
        "x1.view(4, 1)"
      ],
      "execution_count": 41,
      "outputs": [
        {
          "output_type": "execute_result",
          "data": {
            "text/plain": [
              "tensor([[1.],\n",
              "        [2.],\n",
              "        [3.],\n",
              "        [4.]])"
            ]
          },
          "metadata": {
            "tags": []
          },
          "execution_count": 41
        }
      ]
    },
    {
      "cell_type": "code",
      "metadata": {
        "id": "8nLyW2n0IdmI",
        "colab_type": "code",
        "colab": {
          "base_uri": "https://localhost:8080/",
          "height": 34
        },
        "outputId": "e28b5ba4-2abd-4f85-cc66-2777cc2fe4a0"
      },
      "source": [
        "# -1은 표현할 수 있는 자동화된 값으로 대체되며, 한 번만 사용할 수 있다\n",
        "# 아래 예에선 -1을 사용하면 자동으로 4가 된다\n",
        "x1.view(1, -1)"
      ],
      "execution_count": 42,
      "outputs": [
        {
          "output_type": "execute_result",
          "data": {
            "text/plain": [
              "tensor([[1., 2., 3., 4.]])"
            ]
          },
          "metadata": {
            "tags": []
          },
          "execution_count": 42
        }
      ]
    },
    {
      "cell_type": "code",
      "metadata": {
        "id": "KCPm6Sf5IdmJ",
        "colab_type": "code",
        "colab": {
          "base_uri": "https://localhost:8080/",
          "height": 68
        },
        "outputId": "4d314c95-4b5a-4675-883a-ba9c67b27dd3"
      },
      "source": [
        "# 2x3을 전치해서 3x2로 만든다 (transform)\n",
        "x2.t()"
      ],
      "execution_count": 43,
      "outputs": [
        {
          "output_type": "execute_result",
          "data": {
            "text/plain": [
              "tensor([[10., 40.],\n",
              "        [20., 50.],\n",
              "        [30., 60.]])"
            ]
          },
          "metadata": {
            "tags": []
          },
          "execution_count": 43
        }
      ]
    },
    {
      "cell_type": "code",
      "metadata": {
        "id": "j6HT73lJIdmL",
        "colab_type": "code",
        "colab": {
          "base_uri": "https://localhost:8080/",
          "height": 51
        },
        "outputId": "11f79fef-8be8-48d8-a4b2-f479bd7bd3bd"
      },
      "source": [
        "# dim=1로 결합하면 2x5의 텐서를 만든다 (옆으로 append 개념)\n",
        "torch.cat([x1, x2], dim=1)"
      ],
      "execution_count": 44,
      "outputs": [
        {
          "output_type": "execute_result",
          "data": {
            "text/plain": [
              "tensor([[ 1.,  2., 10., 20., 30.],\n",
              "        [ 3.,  4., 40., 50., 60.]])"
            ]
          },
          "metadata": {
            "tags": []
          },
          "execution_count": 44
        }
      ]
    },
    {
      "cell_type": "code",
      "metadata": {
        "id": "xPTMuU5gIdmM",
        "colab_type": "code",
        "colab": {
          "base_uri": "https://localhost:8080/",
          "height": 102
        },
        "outputId": "fcbb702f-1937-4c0d-8863-ec17fb1636c8"
      },
      "source": [
        "# HWC을 CHW로 변환\n",
        "# 64x32x3의 데이터가 100개\n",
        "hwc_img_data = torch.rand(100, 64, 32, 3)\n",
        "chw_img_data = hwc_img_data.transpose(1, 2).transpose(1, 3)\n",
        "print(hwc_img_data[0, 0, 0])\n",
        "print(chw_img_data[0, 0, 0])"
      ],
      "execution_count": 45,
      "outputs": [
        {
          "output_type": "stream",
          "text": [
            "tensor([0.6318, 0.1746, 0.3041])\n",
            "tensor([0.6318, 0.8379, 0.1307, 0.9660, 0.2934, 0.8552, 0.2744, 0.8204, 0.1537,\n",
            "        0.2456, 0.3040, 0.9100, 0.1645, 0.5841, 0.7064, 0.3908, 0.2777, 0.0330,\n",
            "        0.5359, 0.5258, 0.3688, 0.7306, 0.4195, 0.5950, 0.2150, 0.7657, 0.5590,\n",
            "        0.9296, 0.6705, 0.5054, 0.6835, 0.8227])\n"
          ],
          "name": "stdout"
        }
      ]
    },
    {
      "cell_type": "code",
      "metadata": {
        "id": "Fh6tHOFhKBSf",
        "colab_type": "code",
        "colab": {}
      },
      "source": [
        "## 리스트 1.7 - 연산 예"
      ],
      "execution_count": 0,
      "outputs": []
    },
    {
      "cell_type": "code",
      "metadata": {
        "id": "wR0oEdU_QXgI",
        "colab_type": "code",
        "colab": {}
      },
      "source": [
        "m = torch.randn(100, 10)\n",
        "v = torch.randn(10)"
      ],
      "execution_count": 0,
      "outputs": []
    },
    {
      "cell_type": "code",
      "metadata": {
        "id": "T7EAVIpAXU2q",
        "colab_type": "code",
        "colab": {
          "base_uri": "https://localhost:8080/",
          "height": 34
        },
        "outputId": "57f38f58-5c4a-4875-c78c-e37d738f63bb"
      },
      "source": [
        "# 내적 (inner product)\n",
        "d = torch.dot(v, v)\n",
        "print(d)"
      ],
      "execution_count": 48,
      "outputs": [
        {
          "output_type": "stream",
          "text": [
            "tensor(7.6044)\n"
          ],
          "name": "stdout"
        }
      ]
    },
    {
      "cell_type": "code",
      "metadata": {
        "id": "IhSbV6_UXYpZ",
        "colab_type": "code",
        "colab": {
          "base_uri": "https://localhost:8080/",
          "height": 34
        },
        "outputId": "b6185f6f-7fb5-4116-850c-92b61d162d88"
      },
      "source": [
        "# 100 x 1의 행렬과 길이 10인 벡터의 곱\n",
        "# 결과는 길이 100인 벡터\n",
        "v2 = torch.mv(m, v)\n",
        "v2.size()"
      ],
      "execution_count": 49,
      "outputs": [
        {
          "output_type": "execute_result",
          "data": {
            "text/plain": [
              "torch.Size([100])"
            ]
          },
          "metadata": {
            "tags": []
          },
          "execution_count": 49
        }
      ]
    },
    {
      "cell_type": "code",
      "metadata": {
        "id": "wGwJgTpNXk69",
        "colab_type": "code",
        "colab": {
          "base_uri": "https://localhost:8080/",
          "height": 34
        },
        "outputId": "c7ae8849-a071-4f62-e2a2-5beba256c286"
      },
      "source": [
        "# 행렬곱\n",
        "m2 = torch.mm(m.t(), m)\n",
        "m2.size()"
      ],
      "execution_count": 50,
      "outputs": [
        {
          "output_type": "execute_result",
          "data": {
            "text/plain": [
              "torch.Size([10, 10])"
            ]
          },
          "metadata": {
            "tags": []
          },
          "execution_count": 50
        }
      ]
    },
    {
      "cell_type": "code",
      "metadata": {
        "id": "krW2tY1tYB8j",
        "colab_type": "code",
        "colab": {}
      },
      "source": [
        "# 특이값 분해\n",
        "u, s, v = torch.svd(m)"
      ],
      "execution_count": 0,
      "outputs": []
    },
    {
      "cell_type": "code",
      "metadata": {
        "id": "tDH9V3LNYLd_",
        "colab_type": "code",
        "colab": {}
      },
      "source": [
        "## 리스트 1.8 - 자동 미분"
      ],
      "execution_count": 0,
      "outputs": []
    },
    {
      "cell_type": "code",
      "metadata": {
        "id": "ejFCkQOucmbb",
        "colab_type": "code",
        "colab": {}
      },
      "source": [
        "x = torch.randn(100, 3)"
      ],
      "execution_count": 0,
      "outputs": []
    },
    {
      "cell_type": "code",
      "metadata": {
        "id": "1tucBeqbcpRC",
        "colab_type": "code",
        "colab": {}
      },
      "source": [
        "# 미분의 변수로 사용하는 경우는 requires_grad를 True로 설정\n",
        "a = torch.tensor([1, 2, 3.], requires_grad=True)"
      ],
      "execution_count": 0,
      "outputs": []
    },
    {
      "cell_type": "code",
      "metadata": {
        "id": "1uSbZXtNc0Jk",
        "colab_type": "code",
        "colab": {
          "base_uri": "https://localhost:8080/",
          "height": 255
        },
        "outputId": "dbb33ad3-bb42-460d-bf39-8a7fb1303fda"
      },
      "source": [
        "# 계산을 통해 자동으로 계산 그래프가 구축된다\n",
        "y = torch.mv(x, a)\n",
        "o = y.sum()\n",
        "print(y)\n",
        "print(o)"
      ],
      "execution_count": 55,
      "outputs": [
        {
          "output_type": "stream",
          "text": [
            "tensor([-6.8013, -3.4632, -4.5261,  7.2196, -1.5900, -2.4547, -3.0824, -3.3068,\n",
            "         1.0234, -2.7066,  2.4643,  3.6700,  1.6380,  1.6605,  0.7856, -0.5504,\n",
            "        -1.8135,  0.0862,  2.9535,  3.7206,  1.5127, -1.4333, -5.0677, -6.2439,\n",
            "         0.9836, -3.0425,  1.8312, -4.5304, -5.3677, -1.7623, -2.1612,  1.1250,\n",
            "        -0.9094,  4.3815, -0.6966, -4.8338, -7.1755,  0.2377, -9.0428, -4.3937,\n",
            "        -6.0135,  0.0707, -2.6256, -4.2861,  0.0533, -7.3896, -5.6651, -0.7197,\n",
            "        -1.9948, -6.0549,  2.9733,  4.5000,  3.1499,  2.5948,  4.9057,  2.2717,\n",
            "        -0.3339,  0.0418, -5.3493,  3.8864,  0.3506,  1.8040, -4.1397, -1.6330,\n",
            "         2.5585,  3.0508,  5.1753, -4.5233, -3.5432, -1.4385, -2.3560,  0.9386,\n",
            "         1.4186,  3.9406, -7.8539,  6.7889, -3.2861, -0.0976, -0.2002, -2.0236,\n",
            "        -1.9032, -0.9510, -3.8714,  6.7330, -2.5541, -2.6081,  2.6657, -0.3022,\n",
            "        -8.2697, -6.2191,  3.2821, -5.4248, -2.7364, -7.4457,  0.1878,  2.1110,\n",
            "        -1.8329, -0.0740,  1.5835,  3.2809], grad_fn=<MvBackward>)\n",
            "tensor(-97.0650, grad_fn=<SumBackward0>)\n"
          ],
          "name": "stdout"
        }
      ]
    },
    {
      "cell_type": "code",
      "metadata": {
        "id": "vp5M6Ovvc5fa",
        "colab_type": "code",
        "colab": {
          "base_uri": "https://localhost:8080/",
          "height": 34
        },
        "outputId": "0ab655b6-c9e6-42b8-946c-05b63aa8d5ca"
      },
      "source": [
        "# 미분을 실행\n",
        "o.backward()\n",
        "print(o)"
      ],
      "execution_count": 56,
      "outputs": [
        {
          "output_type": "stream",
          "text": [
            "tensor(-97.0650, grad_fn=<SumBackward0>)\n"
          ],
          "name": "stdout"
        }
      ]
    },
    {
      "cell_type": "code",
      "metadata": {
        "id": "YHEQF5axdmDv",
        "colab_type": "code",
        "colab": {
          "base_uri": "https://localhost:8080/",
          "height": 34
        },
        "outputId": "f7270b7d-ec8c-4616-c129-a38b88eb1fdf"
      },
      "source": [
        "# 분석 답과 비교\n",
        "a.grad != x.sum(0)"
      ],
      "execution_count": 57,
      "outputs": [
        {
          "output_type": "execute_result",
          "data": {
            "text/plain": [
              "tensor([0, 0, 0], dtype=torch.uint8)"
            ]
          },
          "metadata": {
            "tags": []
          },
          "execution_count": 57
        }
      ]
    },
    {
      "cell_type": "code",
      "metadata": {
        "id": "2fhMQ5mydyX9",
        "colab_type": "code",
        "colab": {
          "base_uri": "https://localhost:8080/",
          "height": 34
        },
        "outputId": "15cb96be-5568-404d-d523-3cea138baaf4"
      },
      "source": [
        "# x는 requires_grad가 False이므로 미분이 계산되지 않는다\n",
        "x.grad is None"
      ],
      "execution_count": 58,
      "outputs": [
        {
          "output_type": "execute_result",
          "data": {
            "text/plain": [
              "True"
            ]
          },
          "metadata": {
            "tags": []
          },
          "execution_count": 58
        }
      ]
    },
    {
      "cell_type": "code",
      "metadata": {
        "id": "mHos7EPBd_mg",
        "colab_type": "code",
        "colab": {}
      },
      "source": [
        ""
      ],
      "execution_count": 0,
      "outputs": []
    }
  ]
}