{
 "cells": [
  {
   "cell_type": "code",
   "execution_count": 1,
   "metadata": {},
   "outputs": [],
   "source": [
    "import numpy as np\n",
    "import torch"
   ]
  },
  {
   "cell_type": "code",
   "execution_count": 2,
   "metadata": {},
   "outputs": [],
   "source": [
    "## 리스트 1.1 - 텐서 생성 예"
   ]
  },
  {
   "cell_type": "code",
   "execution_count": 3,
   "metadata": {},
   "outputs": [],
   "source": [
    "# 중첩 list를 지정\n",
    "t = torch.tensor([[1, 2], [3, 4.]])"
   ]
  },
  {
   "cell_type": "code",
   "execution_count": 4,
   "metadata": {},
   "outputs": [],
   "source": [
    "# device를 지정하면 GPU에 텐서를 만들 수 있다\n",
    "t = torch.tensor([[1, 2], [3, 4.]], device=\"cuda:0\")"
   ]
  },
  {
   "cell_type": "code",
   "execution_count": 5,
   "metadata": {},
   "outputs": [],
   "source": [
    "# dtype을 사용해 데이터형을 지정하여 텐서를 만들 수 있다\n",
    "t = torch.tensor([[1, 2], [3, 4.]], dtype=torch.float64)"
   ]
  },
  {
   "cell_type": "code",
   "execution_count": 6,
   "metadata": {},
   "outputs": [],
   "source": [
    "# 0부터 9까지의 수치로 초기화된 1차원 텐서\n",
    "t = torch.arange(0, 10)"
   ]
  },
  {
   "cell_type": "code",
   "execution_count": 7,
   "metadata": {},
   "outputs": [],
   "source": [
    "# 모든 값이 0인 100 x 10의 텐서를\n",
    "# 작성해서 to 메서드로 GPU에 전송\n",
    "t = torch.zeros(100, 10).to(\"cuda:0\")"
   ]
  },
  {
   "cell_type": "code",
   "execution_count": 8,
   "metadata": {},
   "outputs": [],
   "source": [
    "# 정규 난수로 100 x 10의 텐서를 작성\n",
    "t = torch.randn(100, 10)"
   ]
  },
  {
   "cell_type": "code",
   "execution_count": 9,
   "metadata": {},
   "outputs": [
    {
     "data": {
      "text/plain": [
       "torch.Size([100, 10])"
      ]
     },
     "execution_count": 9,
     "metadata": {},
     "output_type": "execute_result"
    }
   ],
   "source": [
    "# 텐서의 shape은 size 메서드로 확인 가능\n",
    "t.size()"
   ]
  },
  {
   "cell_type": "code",
   "execution_count": 10,
   "metadata": {},
   "outputs": [],
   "source": [
    "## 리스트 1.2 - 텐서 변환 예"
   ]
  },
  {
   "cell_type": "code",
   "execution_count": 11,
   "metadata": {},
   "outputs": [],
   "source": [
    "# numpy 메서드를 사용해 ndarray로 변환\n",
    "t = torch.tensor([[1,2], [3,4.]])\n",
    "x = t.numpy()"
   ]
  },
  {
   "cell_type": "code",
   "execution_count": 12,
   "metadata": {},
   "outputs": [],
   "source": [
    "# GPU상의 텐서는 to 메서드로,\n",
    "# CPU의 텐서로 이동(변환)할 필요가 있다\n",
    "t = torch.tensor([[1,2], [3,4.]], device=\"cuda:0\")\n",
    "x = t.to(\"cpu\").numpy()"
   ]
  },
  {
   "cell_type": "code",
   "execution_count": 13,
   "metadata": {},
   "outputs": [
    {
     "name": "stdout",
     "output_type": "stream",
     "text": [
      "tensor([[1., 2.],\n",
      "        [3., 4.]], device='cuda:0')\n",
      "[[1. 2.]\n",
      " [3. 4.]]\n"
     ]
    }
   ],
   "source": [
    "print(t)\n",
    "print(x)"
   ]
  },
  {
   "cell_type": "code",
   "execution_count": 14,
   "metadata": {},
   "outputs": [],
   "source": [
    "## 리스트 1.3 - 텐서의 인덱스 조작 예"
   ]
  },
  {
   "cell_type": "code",
   "execution_count": 15,
   "metadata": {},
   "outputs": [
    {
     "name": "stdout",
     "output_type": "stream",
     "text": [
      "tensor([[1., 2., 3.],\n",
      "        [4., 5., 6.]])\n"
     ]
    }
   ],
   "source": [
    "t = torch.tensor([[1,2,3], [4,5,6.]])\n",
    "print(t)"
   ]
  },
  {
   "cell_type": "code",
   "execution_count": 16,
   "metadata": {},
   "outputs": [
    {
     "data": {
      "text/plain": [
       "tensor(3.)"
      ]
     },
     "execution_count": 16,
     "metadata": {},
     "output_type": "execute_result"
    }
   ],
   "source": [
    "# 스칼라 첨자 지정 (row, column)\n",
    "t[0, 2]"
   ]
  },
  {
   "cell_type": "code",
   "execution_count": 17,
   "metadata": {},
   "outputs": [
    {
     "data": {
      "text/plain": [
       "tensor([[1., 2.],\n",
       "        [4., 5.]])"
      ]
     },
     "execution_count": 17,
     "metadata": {},
     "output_type": "execute_result"
    }
   ],
   "source": [
    "# 슬라이스로 지정\n",
    "t[:, :2]"
   ]
  },
  {
   "cell_type": "code",
   "execution_count": 18,
   "metadata": {},
   "outputs": [
    {
     "data": {
      "text/plain": [
       "tensor([[2., 3.],\n",
       "        [5., 6.]])"
      ]
     },
     "execution_count": 18,
     "metadata": {},
     "output_type": "execute_result"
    }
   ],
   "source": [
    "# 리스트로 지정\n",
    "t[:, [1,2]]"
   ]
  },
  {
   "cell_type": "code",
   "execution_count": 19,
   "metadata": {},
   "outputs": [
    {
     "data": {
      "text/plain": [
       "tensor([4., 5., 6.])"
      ]
     },
     "execution_count": 19,
     "metadata": {},
     "output_type": "execute_result"
    }
   ],
   "source": [
    "# 마스크 배열을 사용해서 3보다 큰 부분만 선택\n",
    "t[t > 3]"
   ]
  },
  {
   "cell_type": "code",
   "execution_count": 20,
   "metadata": {},
   "outputs": [
    {
     "name": "stdout",
     "output_type": "stream",
     "text": [
      "tensor([[  1., 100.,   3.],\n",
      "        [  4.,   5.,   6.]])\n"
     ]
    }
   ],
   "source": [
    "# [0, 1]의 요소를 100으로 설정\n",
    "t[0, 1] = 100\n",
    "print(t)"
   ]
  },
  {
   "cell_type": "code",
   "execution_count": 21,
   "metadata": {},
   "outputs": [
    {
     "name": "stdout",
     "output_type": "stream",
     "text": [
      "tensor([[  1., 200.,   3.],\n",
      "        [  4., 200.,   6.]])\n"
     ]
    }
   ],
   "source": [
    "# 슬라이스를 사용한 일괄 대입\n",
    "t[:, 1] = 200\n",
    "print(t)"
   ]
  },
  {
   "cell_type": "code",
   "execution_count": 22,
   "metadata": {},
   "outputs": [
    {
     "name": "stdout",
     "output_type": "stream",
     "text": [
      "tensor([[ 1., 20.,  3.],\n",
      "        [ 4., 20.,  6.]])\n"
     ]
    }
   ],
   "source": [
    "# 마스크 배열을 사용해서 특정 조건의 요소만 치환\n",
    "t[t > 10] = 20\n",
    "print(t)"
   ]
  },
  {
   "cell_type": "code",
   "execution_count": 23,
   "metadata": {},
   "outputs": [],
   "source": [
    "## 리스트 1.4 - 텐서 연산"
   ]
  },
  {
   "cell_type": "code",
   "execution_count": 24,
   "metadata": {},
   "outputs": [
    {
     "name": "stdout",
     "output_type": "stream",
     "text": [
      "tensor([1., 2., 3.])\n",
      "tensor([ 0., 10., 20.])\n",
      "tensor([[  0.,   1.,   2.],\n",
      "        [100., 200., 300.]])\n"
     ]
    }
   ],
   "source": [
    "# 길이 3인 벡터\n",
    "v = torch.tensor([1, 2, 3.])\n",
    "w = torch.tensor([0, 10, 20.])\n",
    "# 2 x 3의 행렬\n",
    "m = torch.tensor([[0, 1, 2], [100, 200, 300.]])\n",
    "print(v)\n",
    "print(w)\n",
    "print(m)"
   ]
  },
  {
   "cell_type": "code",
   "execution_count": 25,
   "metadata": {},
   "outputs": [
    {
     "name": "stdout",
     "output_type": "stream",
     "text": [
      "tensor([11., 12., 13.])\n"
     ]
    }
   ],
   "source": [
    "# 벡터와 스칼라의 덧셈\n",
    "v2 = v + 10\n",
    "print(v2)"
   ]
  },
  {
   "cell_type": "code",
   "execution_count": 26,
   "metadata": {},
   "outputs": [
    {
     "name": "stdout",
     "output_type": "stream",
     "text": [
      "tensor([1., 4., 9.])\n"
     ]
    }
   ],
   "source": [
    "# 제곱도 같은 방식\n",
    "v2 = v ** 2\n",
    "print(v2)"
   ]
  },
  {
   "cell_type": "code",
   "execution_count": 27,
   "metadata": {},
   "outputs": [
    {
     "name": "stdout",
     "output_type": "stream",
     "text": [
      "tensor([  1.,  -8., -17.])\n"
     ]
    }
   ],
   "source": [
    "# 동일 길이의 벡터 간 뺄쎔\n",
    "z = v - w\n",
    "print(z)"
   ]
  },
  {
   "cell_type": "code",
   "execution_count": 28,
   "metadata": {},
   "outputs": [
    {
     "name": "stdout",
     "output_type": "stream",
     "text": [
      "tensor([ 8.,  9., 10.])\n"
     ]
    }
   ],
   "source": [
    "# 여러가지 조합\n",
    "u = 2 * v - w / 10 + 6.0\n",
    "print(u)"
   ]
  },
  {
   "cell_type": "code",
   "execution_count": 29,
   "metadata": {},
   "outputs": [
    {
     "name": "stdout",
     "output_type": "stream",
     "text": [
      "tensor([[  0.,   2.,   4.],\n",
      "        [200., 400., 600.]])\n"
     ]
    }
   ],
   "source": [
    "# 행렬과 스칼라\n",
    "m2 = m * 2.0\n",
    "print(m2)"
   ]
  },
  {
   "cell_type": "code",
   "execution_count": 30,
   "metadata": {},
   "outputs": [
    {
     "name": "stdout",
     "output_type": "stream",
     "text": [
      "tensor([[  1.,   3.,   5.],\n",
      "        [101., 202., 303.]])\n"
     ]
    }
   ],
   "source": [
    "# 행렬과 벡터\n",
    "# (2, 3)인 행렬과 (3,)인 벡터이므로 브로드캐스트가 작동\n",
    "m3 = m + v\n",
    "print(m3)"
   ]
  },
  {
   "cell_type": "code",
   "execution_count": 31,
   "metadata": {},
   "outputs": [
    {
     "name": "stdout",
     "output_type": "stream",
     "text": [
      "tensor([[  0.,   2.,   4.],\n",
      "        [200., 400., 600.]])\n"
     ]
    }
   ],
   "source": [
    "# 행렬 간 처리\n",
    "m4 = m + m\n",
    "print(m4)"
   ]
  },
  {
   "cell_type": "code",
   "execution_count": 32,
   "metadata": {},
   "outputs": [],
   "source": [
    "## 리스트 1.5 - 수학 함수"
   ]
  },
  {
   "cell_type": "code",
   "execution_count": 48,
   "metadata": {},
   "outputs": [],
   "source": [
    "# 100 x 10의 테스트 데이터 생성\n",
    "X = torch.randn(100, 10)"
   ]
  },
  {
   "cell_type": "code",
   "execution_count": 49,
   "metadata": {},
   "outputs": [],
   "source": [
    "# 수학 함수를 표함하는 수식\n",
    "Y = X * 2 + torch.abs(X)"
   ]
  },
  {
   "cell_type": "code",
   "execution_count": 50,
   "metadata": {},
   "outputs": [],
   "source": [
    "# 평균치 구하기\n",
    "m = torch.mean(X)"
   ]
  },
  {
   "cell_type": "code",
   "execution_count": 59,
   "metadata": {},
   "outputs": [
    {
     "name": "stdout",
     "output_type": "stream",
     "text": [
      "tensor(-0.0200)\n"
     ]
    }
   ],
   "source": [
    "# 함수가 아닌 메서드로도 사용할 수 있다\n",
    "m = X.mean()\n",
    "print(m)"
   ]
  },
  {
   "cell_type": "code",
   "execution_count": 60,
   "metadata": {},
   "outputs": [
    {
     "name": "stdout",
     "output_type": "stream",
     "text": [
      "-0.020031847059726715\n"
     ]
    }
   ],
   "source": [
    "# 집계 결과는 0차원의 텐서로 item 메서드를 사용해서\n",
    "# 값을 추출할 수 있다\n",
    "m_value = m.item()\n",
    "print(m_value)"
   ]
  },
  {
   "cell_type": "code",
   "execution_count": 63,
   "metadata": {},
   "outputs": [
    {
     "name": "stdout",
     "output_type": "stream",
     "text": [
      "tensor([-0.2510,  0.0139, -0.0246,  0.0540,  0.0858,  0.1045, -0.0590, -0.0410,\n",
      "         0.0204, -0.1034])\n"
     ]
    },
    {
     "data": {
      "text/plain": [
       "torch.Size([10])"
      ]
     },
     "execution_count": 63,
     "metadata": {},
     "output_type": "execute_result"
    }
   ],
   "source": [
    "# 집계는 차원을 지정할 수도 있다. 다음은 행 방향으로 집계해서, (size=10)\n",
    "# 열 단위로 평균값을 계산한다\n",
    "m2 = X.mean(0)\n",
    "print(m2)\n",
    "m2.size()"
   ]
  },
  {
   "cell_type": "code",
   "execution_count": 64,
   "metadata": {},
   "outputs": [],
   "source": [
    "## 리스트 1.6 - 텐서의 인덱스 조작 예"
   ]
  },
  {
   "cell_type": "code",
   "execution_count": 78,
   "metadata": {},
   "outputs": [
    {
     "name": "stdout",
     "output_type": "stream",
     "text": [
      "tensor([[1., 2.],\n",
      "        [3., 4.]])\n",
      "tensor([[10., 20., 30.],\n",
      "        [40., 50., 60.]])\n"
     ]
    }
   ],
   "source": [
    "x1 = torch.tensor([[1, 2], [3, 4.]]) # 2x2\n",
    "x2 = torch.tensor([[10, 20, 30], [40, 50, 60.]]) # 2x3\n",
    "print(x1)\n",
    "print(x2)"
   ]
  },
  {
   "cell_type": "code",
   "execution_count": 79,
   "metadata": {},
   "outputs": [
    {
     "data": {
      "text/plain": [
       "tensor([[1.],\n",
       "        [2.],\n",
       "        [3.],\n",
       "        [4.]])"
      ]
     },
     "execution_count": 79,
     "metadata": {},
     "output_type": "execute_result"
    }
   ],
   "source": [
    "# 2x2를 4x1로 보여 준다\n",
    "x1.view(4, 1)"
   ]
  },
  {
   "cell_type": "code",
   "execution_count": 80,
   "metadata": {},
   "outputs": [
    {
     "data": {
      "text/plain": [
       "tensor([[1., 2., 3., 4.]])"
      ]
     },
     "execution_count": 80,
     "metadata": {},
     "output_type": "execute_result"
    }
   ],
   "source": [
    "# -1은 표현할 수 있는 자동화된 값으로 대체되며, 한 번만 사용할 수 있다\n",
    "# 아래 예에선 -1을 사용하면 자동으로 4가 된다\n",
    "x1.view(1, -1)"
   ]
  },
  {
   "cell_type": "code",
   "execution_count": 81,
   "metadata": {},
   "outputs": [
    {
     "data": {
      "text/plain": [
       "tensor([[10., 40.],\n",
       "        [20., 50.],\n",
       "        [30., 60.]])"
      ]
     },
     "execution_count": 81,
     "metadata": {},
     "output_type": "execute_result"
    }
   ],
   "source": [
    "# 2x3을 전치해서 3x2로 만든다 (Transform)\n",
    "x2.t()"
   ]
  },
  {
   "cell_type": "code",
   "execution_count": 83,
   "metadata": {},
   "outputs": [
    {
     "data": {
      "text/plain": [
       "tensor([[ 1.,  2., 10., 20., 30.],\n",
       "        [ 3.,  4., 40., 50., 60.]])"
      ]
     },
     "execution_count": 83,
     "metadata": {},
     "output_type": "execute_result"
    }
   ],
   "source": [
    "# dim=1로 결합하면 2x5의 텐서를 만든다 (옆으로 append 개념)\n",
    "torch.cat([x1, x2], dim=1)"
   ]
  },
  {
   "cell_type": "code",
   "execution_count": null,
   "metadata": {},
   "outputs": [],
   "source": [
    "# HWC을 CHW로 변환\n"
   ]
  }
 ],
 "metadata": {
  "kernelspec": {
   "display_name": "Python 3",
   "language": "python",
   "name": "python3"
  },
  "language_info": {
   "codemirror_mode": {
    "name": "ipython",
    "version": 3
   },
   "file_extension": ".py",
   "mimetype": "text/x-python",
   "name": "python",
   "nbconvert_exporter": "python",
   "pygments_lexer": "ipython3",
   "version": "3.7.0"
  }
 },
 "nbformat": 4,
 "nbformat_minor": 2
}
